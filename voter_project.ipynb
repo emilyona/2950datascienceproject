{
 "cells": [
  {
   "cell_type": "markdown",
   "metadata": {},
   "source": [
    "# Phase 3"
   ]
  },
  {
   "cell_type": "markdown",
   "metadata": {},
   "source": [
    "1. Classification model to classify voter category (always, sporadic, rarely/never) -- (Possible models: Logistic regression, kNN, Decision Tree)\n",
    "2. Statistical analysis of significance of poll question answers in determining voter category. (Specifically analyzing questions related to people not voting to determine the reasons why people don't vote/what are the biggest barriers to voting.)"
   ]
  },
  {
   "cell_type": "markdown",
   "metadata": {},
   "source": [
    "Questions for reviewers:\n",
    "1. I'm not sure what the best way to go about the analysis of the poll questions. Would using them in a model to predict voter category and then looking at feature importance be good? Should we be using hypothsis testing?\n",
    "2. We also changed out dataset and redid phase 2. Do we need to notify anyone of this change (i've included our new phase 2 below)? "
   ]
  },
  {
   "cell_type": "markdown",
   "metadata": {},
   "source": [
    "# Phase 2"
   ]
  },
  {
   "cell_type": "markdown",
   "metadata": {},
   "source": [
    "## Research Questions:\n",
    "- What are the biggest barriers to voting?\n",
    "- Who is most likely to be a voter? (Can we predict who is and who is not a voter?)"
   ]
  },
  {
   "cell_type": "markdown",
   "metadata": {},
   "source": [
    "## Data Collection and Cleaning"
   ]
  },
  {
   "cell_type": "code",
   "execution_count": 1,
   "metadata": {},
   "outputs": [],
   "source": [
    "# imports\n",
    "import pandas as pd\n",
    "import numpy as np\n",
    "import matplotlib.pyplot as plt"
   ]
  },
  {
   "cell_type": "markdown",
   "metadata": {},
   "source": [
    "Data dowloaded from fivethirtyeight: https://github.com/fivethirtyeight/data/tree/master/non-voters"
   ]
  },
  {
   "cell_type": "code",
   "execution_count": 31,
   "metadata": {},
   "outputs": [
    {
     "data": {
      "text/plain": [
       "0       1\n",
       "1       1\n",
       "2       1\n",
       "3       1\n",
       "4       1\n",
       "       ..\n",
       "5831    1\n",
       "5832    1\n",
       "5833    1\n",
       "5834    1\n",
       "5835    1\n",
       "Name: Q26, Length: 5836, dtype: int64"
      ]
     },
     "execution_count": 31,
     "metadata": {},
     "output_type": "execute_result"
    }
   ],
   "source": [
    "data = pd.read_csv('nonvoters_data.csv')\n",
    "data['Q26']"
   ]
  },
  {
   "cell_type": "markdown",
   "metadata": {},
   "source": [
    "Rename columns:"
   ]
  },
  {
   "cell_type": "code",
   "execution_count": 3,
   "metadata": {},
   "outputs": [],
   "source": [
    "data.columns = ['Id','weight','Q1','Q2_1','Q2_2','Q2_3','Q2_4','Q2_5','Q2_6','Q2_7','Q2_8','Q2_9',\n",
    "                'Q2_10','Q3_1','Q3_2','Q3_3','Q3_4','Q3_5','Q3_6','Q4_1','Q4_2','Q4_3','Q4_4','Q4_5',\n",
    "                'Q4_6','Q5','Q6','Q7','Q8_1','Q8_2','Q8_3','Q8_4','Q8_5','Q8_6','Q8_7','Q8_8',\n",
    "                'Q8_9','Q9_1','Q9_2','Q9_3','Q9_4','Q10_1','Q10_2','Q10_3','Q10_4','Q11_1','Q11_2',\n",
    "                'Q11_3','Q11_4','Q11_5','Q11_6','Q14','Q15','Q16','Q17_1','Q17_2','Q17_3','Q17_4',\n",
    "                'Q18_1','Q18_2','Q18_3','Q18_4','Q18_5','Q18_6','Q18_7','Q18_8','Q18_9','Q18_10',\n",
    "                'Q19_1','Q19_2','Q19_3','Q19_4','Q19_5','Q19_6','Q19_7','Q19_8','Q19_9','Q19_10',\n",
    "                'Q20', 'Q21', 'Q22', 'Q23', 'Q24', 'Q25', 'Q26', 'Q27_1', 'Q27_2', 'Q27_3', 'Q27_4',\n",
    "                'Q27_5','Q27_6','Q28_1','Q28_2','Q28_3','Q28_4','Q28_5','Q28_6','Q28_7','Q28_8',\n",
    "                'Q29_1','Q29_2','Q29_3','Q29_4','Q29_5','Q29_6','Q29_7','Q29_8','Q29_9','Q29_10',\n",
    "                'Q30', 'Q31', 'Q32', 'Q33', 'age', 'education', 'race', 'gender', 'income','voter_category']"
   ]
  },
  {
   "cell_type": "markdown",
   "metadata": {},
   "source": [
    "## Data description\n",
    "- What are the observations (rows) and the attributes (columns)?\n",
    "    - the rows of the dataset are individuals (voters or non voters) who participated in Ipsos for FiveThirtyEight's poll. the columns Q1 - Q33 corresponds to questions from the poll and the individuals answers to these questions (muliptle choice). The final columns are demographic information about the individuals (age, education, race, gender, income) and the last column is voter stats (always, sporadic, rarely/never)\n",
    "- Why was this dataset created?\n",
    "    - this dataset was created by fivethirtyeight in order to analyze why americans don't vote.\n",
    "- Who funded the creation of the dataset?\n",
    "    - Ipsos for FiveThirtyEight\n",
    "- What processes might have influenced what data was observed and recorded and what was not?\n",
    "    - Minorities (young people, african americans, hispanics... etc.) all are less likely to be sampled. The sampling scheme employed by FiveThrityEight used a sample of U.S. citizens that oversampled young, Black and Hispanic respondents, with 8,327 respondents, and was weighted according to general population benchmarks for U.S. citizens from the U.S. Census Bureau. The sample was then matched to a voter profile through the voter file company Aritotle. Since non-voters are more likely to not be matched to the voter file, respondants were included who did not match the voter file but described themselves as voting “rarely” or “never” in the survey, so as to avoid underrepresenting nonvoters.\n",
    "- What preprocessing was done, and how did the data come to be in the form that you are using?\n",
    "    - dropped respondents who were only eligible to vote in three elections or fewer\n",
    "    - defined those who almost always vote as those who voted in all (or all but one) of the national elections (presidential and midterm) they were eligible to vote in since 2000; those who vote sometimes as those who voted in at least two elections, but fewer than all the elections they were eligible to vote in (or all but one); and those who rarely or never vote as those who voted in no elections, or just one\n",
    "    - data includes 5,239 respondents who matched to the voter file and whose verified vote history we have, and 597 respondents who did not match to the voter file and described themselves as voting \"rarely\" or \"never,\" all of whom have been eligible for at least 4 elections\n",
    "- If people are involved, were they aware of the data collection and if so, what purpose did they expect the data to be used for?\n",
    "    - yes they were aware. Poll was conducted by Ipsos for FiveThrityEight and respondent knew that data was to be used for FiveThrityEight's opinion poll analysis blog\n",
    "- Where can your raw source data be found, if applicable? Provide a link to the raw data (hosted in a Cornell Google Drive or Cornell Box). \n",
    "    - https://github.com/fivethirtyeight/data/tree/master/non-voters"
   ]
  },
  {
   "cell_type": "markdown",
   "metadata": {},
   "source": [
    "## Data Limitations"
   ]
  },
  {
   "cell_type": "markdown",
   "metadata": {},
   "source": [
    "- One thing we noticed when doing our EDA was that there is a disconnect between some individuals poll responses and their voter file data from Aristotle. People might not always answer polls truthfully. \n",
    "- Another possible limitation"
   ]
  },
  {
   "cell_type": "markdown",
   "metadata": {},
   "source": [
    "## Exploratory Data Analysis"
   ]
  },
  {
   "cell_type": "markdown",
   "metadata": {},
   "source": [
    "### Stacked Barcharts:\n",
    "Voter category by demographic info"
   ]
  },
  {
   "cell_type": "markdown",
   "metadata": {},
   "source": [
    "Voter category and race:\n",
    "<br>\n",
    "Largest percentage of people who always vote is white people. Minorities are less likely to vote regularly vote. "
   ]
  },
  {
   "cell_type": "code",
   "execution_count": 5,
   "metadata": {},
   "outputs": [
    {
     "data": {
      "image/png": "[encoded data removed]",
      "text/plain": [
       "<Figure size 720x504 with 1 Axes>"
      ]
     },
     "metadata": {
      "needs_background": "light"
     },
     "output_type": "display_data"
    }
   ],
   "source": [
    "# voter status by race\n",
    "sub = data[['race', 'voter_category']]\n",
    "sub.race.unique()\n",
    "dict = {}\n",
    "for category in sub.voter_category.unique():\n",
    "    vals = []\n",
    "    categorydf = sub[sub['voter_category'] == category]\n",
    "    for race in sub.race.unique():\n",
    "        racecat = categorydf[categorydf['race'] == race]\n",
    "        vals.append(len(racecat))\n",
    "    dict[category] = vals\n",
    "\n",
    "# stacked bar plot\n",
    "x = sub.race.unique()\n",
    "always = np.array(dict['always'])\n",
    "sporadic = np.array(dict['sporadic'])\n",
    "rarely = np.array(dict['rarely/never'])\n",
    "total = always+sporadic+rarely\n",
    "proportion_always = np.true_divide(always, total) * 100\n",
    "proportion_sporadic = np.true_divide(sporadic, total) * 100\n",
    "proportion_rarely = np.true_divide(rarely, total) * 100\n",
    "\n",
    "#add colors\n",
    "colors = ['#FF9999', '#00BFFF','#C1FFC1','#CAE1FF','#FFDEAD']\n",
    "# The position of the bars on the x-axis\n",
    "r = range(len(x))\n",
    "barWidth = 1\n",
    "#plot bars\n",
    "plt.figure(figsize = (10,7))\n",
    "ax1 = plt.bar(r, proportion_always, bottom = proportion_sporadic + proportion_rarely, color = colors[0], edgecolor = 'white', width = barWidth, label = 'Always')\n",
    "ax3 = plt.bar(r, proportion_sporadic, bottom = proportion_rarely, color = colors[1], edgecolor = 'white', width = barWidth, label = 'Sporadic')\n",
    "ax4 = plt.bar(r, proportion_rarely, color = colors[2], edgecolor = 'white', width=barWidth, label = 'Rarely/Never')\n",
    "plt.legend()\n",
    "plt.xticks(r, x, fontweight = 'bold')\n",
    "plt.xlabel(\"Race\")\n",
    "plt.ylabel(\"Voter Status (%)\")\n",
    "plt.title(\"Voter Category and Race\")\n",
    "plt.show()\n"
   ]
  },
  {
   "cell_type": "markdown",
   "metadata": {},
   "source": [
    "Voter Category and Income:\n",
    "<br>\n",
    "people who make less and 40k are alot more likely to never vote. "
   ]
  },
  {
   "cell_type": "code",
   "execution_count": 6,
   "metadata": {},
   "outputs": [
    {
     "data": {
      "image/png": "[encoded data removed]",
      "text/plain": [
       "<Figure size 720x504 with 1 Axes>"
      ]
     },
     "metadata": {
      "needs_background": "light"
     },
     "output_type": "display_data"
    }
   ],
   "source": [
    "# voter status by income\n",
    "sub = data[['income', 'voter_category']]\n",
    "dict = {}\n",
    "for category in sub.voter_category.unique():\n",
    "    vals = []\n",
    "    categorydf = sub[sub['voter_category'] == category]\n",
    "    for inc in sub.income.unique():\n",
    "        inccat = categorydf[categorydf['income'] == inc]\n",
    "        vals.append(len(inccat))\n",
    "    dict[category] = vals\n",
    "\n",
    "# stacked bar plot\n",
    "x = sub.income.unique()\n",
    "always = np.array(dict['always'])\n",
    "sporadic = np.array(dict['sporadic'])\n",
    "rarely = np.array(dict['rarely/never'])\n",
    "total = always+sporadic+rarely\n",
    "proportion_always = np.true_divide(always, total) * 100\n",
    "proportion_sporadic = np.true_divide(sporadic, total) * 100\n",
    "proportion_rarely = np.true_divide(rarely, total) * 100\n",
    "\n",
    "#add colors\n",
    "colors = ['#FF9999', '#00BFFF','#C1FFC1','#CAE1FF','#FFDEAD']\n",
    "# The position of the bars on the x-axis\n",
    "r = range(len(x))\n",
    "barWidth = 1\n",
    "#plot bars\n",
    "plt.figure(figsize = (10,7))\n",
    "ax1 = plt.bar(r, proportion_always, bottom = proportion_sporadic + proportion_rarely, color = colors[0], edgecolor = 'white', width = barWidth, label = 'Always')\n",
    "ax3 = plt.bar(r, proportion_sporadic, bottom = proportion_rarely, color = colors[1], edgecolor = 'white', width = barWidth, label = 'Sporadic')\n",
    "ax4 = plt.bar(r, proportion_rarely, color = colors[2], edgecolor = 'white', width=barWidth, label = 'Rarely/Never')\n",
    "plt.legend()\n",
    "plt.xticks(r, x, fontweight = 'bold')\n",
    "plt.xlabel(\"Income\")\n",
    "plt.ylabel(\"Voter Status (%)\")\n",
    "plt.title(\"Voter Category and Income\")\n",
    "plt.show()"
   ]
  },
  {
   "cell_type": "markdown",
   "metadata": {},
   "source": [
    "Voter category and education:\n",
    "<br>\n",
    "higher education level is associated with being more likely to vote. "
   ]
  },
  {
   "cell_type": "code",
   "execution_count": 73,
   "metadata": {},
   "outputs": [
    {
     "data": {
      "image/png": "[encoded data removed]",
      "text/plain": [
       "<Figure size 720x504 with 1 Axes>"
      ]
     },
     "metadata": {
      "needs_background": "light"
     },
     "output_type": "display_data"
    }
   ],
   "source": [
    "# voter status by demographic info\n",
    "sub = data[['education', 'voter_category']]\n",
    "dict = {}\n",
    "for category in sub.voter_category.unique():\n",
    "    vals = []\n",
    "    categorydf = sub[sub['voter_category'] == category]\n",
    "    for edu in sub.education.unique():\n",
    "        educat = categorydf[categorydf['education'] == edu]\n",
    "        vals.append(len(educat))\n",
    "    dict[category] = vals\n",
    "\n",
    "# stacked bar plot\n",
    "x = sub.education.unique()\n",
    "always = np.array(dict['always'])\n",
    "sporadic = np.array(dict['sporadic'])\n",
    "rarely = np.array(dict['rarely/never'])\n",
    "total = always+sporadic+rarely\n",
    "proportion_always = np.true_divide(always, total) * 100\n",
    "proportion_sporadic = np.true_divide(sporadic, total) * 100\n",
    "proportion_rarely = np.true_divide(rarely, total) * 100\n",
    "\n",
    "#add colors\n",
    "colors = ['#FF9999', '#00BFFF','#C1FFC1','#CAE1FF','#FFDEAD']\n",
    "# The position of the bars on the x-axis\n",
    "r = range(len(x))\n",
    "barWidth = 1\n",
    "#plot bars\n",
    "plt.figure(figsize = (10,7))\n",
    "ax1 = plt.bar(r, proportion_always, bottom = proportion_sporadic + proportion_rarely, color = colors[0], edgecolor = 'white', width = barWidth, label = 'Always')\n",
    "ax3 = plt.bar(r, proportion_sporadic, bottom = proportion_rarely, color = colors[1], edgecolor = 'white', width = barWidth, label = 'Sporadic')\n",
    "ax4 = plt.bar(r, proportion_rarely, color = colors[2], edgecolor = 'white', width=barWidth, label = 'Rarely/Never')\n",
    "plt.legend()\n",
    "plt.xticks(r, x, fontweight = 'bold')\n",
    "plt.xlabel(\"Education\")\n",
    "plt.ylabel(\"Voter Status (%)\")\n",
    "plt.title(\"Voter Category and Education\")\n",
    "plt.show()"
   ]
  },
  {
   "cell_type": "markdown",
   "metadata": {},
   "source": [
    "Voter Category and Gender:\n",
    "<br>\n",
    "male and females have very similar results. Slightly larger percentage of females who always votes. "
   ]
  },
  {
   "cell_type": "code",
   "execution_count": 74,
   "metadata": {},
   "outputs": [
    {
     "data": {
      "image/png": "[encoded data removed]",
      "text/plain": [
       "<Figure size 720x504 with 1 Axes>"
      ]
     },
     "metadata": {
      "needs_background": "light"
     },
     "output_type": "display_data"
    }
   ],
   "source": [
    "#voter status by demographic info\n",
    "sub = data[['gender', 'voter_category']] \n",
    "dict = {}\n",
    "for category in sub.voter_category.unique():\n",
    "    vals = []\n",
    "    categorydf = sub[sub['voter_category'] == category]\n",
    "    for g in sub.gender.unique():\n",
    "        gcat = categorydf[categorydf['gender'] == g]\n",
    "        vals.append(len(gcat))\n",
    "    dict[category] = vals\n",
    "\n",
    "# stacked bar plot\n",
    "x = sub.gender.unique()\n",
    "always = np.array(dict['always'])\n",
    "sporadic = np.array(dict['sporadic'])\n",
    "rarely = np.array(dict['rarely/never'])\n",
    "total = always+sporadic+rarely\n",
    "proportion_always = np.true_divide(always, total) * 100\n",
    "proportion_sporadic = np.true_divide(sporadic, total) * 100\n",
    "proportion_rarely = np.true_divide(rarely, total) * 100\n",
    "\n",
    "#add colors\n",
    "colors = ['#FF9999', '#00BFFF','#C1FFC1','#CAE1FF','#FFDEAD']\n",
    "# The position of the bars on the x-axis\n",
    "r = range(len(x))\n",
    "barWidth = 1\n",
    "#plot bars\n",
    "plt.figure(figsize = (10,7))\n",
    "ax1 = plt.bar(r, proportion_always, bottom = proportion_sporadic + proportion_rarely, color = colors[0], edgecolor = 'white', width = barWidth, label = 'Always')\n",
    "ax3 = plt.bar(r, proportion_sporadic, bottom = proportion_rarely, color = colors[1], edgecolor = 'white', width = barWidth, label = 'Sporadic')\n",
    "ax4 = plt.bar(r, proportion_rarely, color = colors[2], edgecolor = 'white', width=barWidth, label = 'Rarely/Never')\n",
    "plt.legend()\n",
    "plt.xticks(r, x, fontweight = 'bold')\n",
    "plt.xlabel(\"Gender\")\n",
    "plt.ylabel(\"Voter Status (%)\")\n",
    "plt.title(\"Voter Category and Gender\")\n",
    "plt.show()"
   ]
  },
  {
   "cell_type": "markdown",
   "metadata": {},
   "source": [
    "EDA about the poll questions:"
   ]
  },
  {
   "cell_type": "markdown",
   "metadata": {},
   "source": [
    "Poll Q5: As far as making progress on the important issues facing the country, does it really\n",
    "matter who wins the 2020 presidential election, or will things be pretty much the same\n",
    "regardless of who is elected president?\n",
    "- 1. Who wins the elction really matters\n",
    "- 2. Things will be pretty much the same <br>\n",
    "\n",
    "Its not too suprising that those who always vote think that their 2020 vote really matters. What i think is interesting is that the sporadic categroy also has a large percentage of people who think their 2020 vote really matters. It makes me wonder if this is different than in the past (will this sporadic people be more likely to vote in 2020 than past elections?). It also makes me wonder about the 'rarely/never' people. Are those rarely/never people who think their 2020 vote matters going to vote this year? Why do the people who ansered \"Things will be the same\" not think the election result matters?"
   ]
  },
  {
   "cell_type": "code",
   "execution_count": 9,
   "metadata": {},
   "outputs": [
    {
     "data": {
      "image/png": "[encoded data removed]",
      "text/plain": [
       "<Figure size 432x288 with 1 Axes>"
      ]
     },
     "metadata": {
      "needs_background": "light"
     },
     "output_type": "display_data"
    }
   ],
   "source": [
    "sub1 = data[['Q5', 'voter_category']]\n",
    "sub = sub1[sub1['Q5'] == 1]\n",
    "\n",
    "x = sub.voter_category.unique()\n",
    "dict = {}\n",
    "for category in sub.voter_category.unique():\n",
    "    categorydf = sub[sub['voter_category'] == category]\n",
    "    count = len(categorydf)\n",
    "    subset = sub1[sub1['voter_category'] == category]\n",
    "    percent = count / len(subset)\n",
    "    dict[category] = percent\n",
    "\n",
    "y = dict.values()    \n",
    "plt.bar(x, y, color='blue')\n",
    "plt.xlabel(\"Voter Category\")\n",
    "plt.ylabel(\"%\")\n",
    "plt.title(\"Who thinks their 2020 vote matters?\")\n",
    "plt.show()"
   ]
  },
  {
   "cell_type": "markdown",
   "metadata": {},
   "source": [
    "Poll Q16: In general, how easy or difficult do you think it is to vote in national elections?\n",
    "- 1. Very easy\n",
    "- 2. Somewhat easy\n",
    "- 3. Somewhat difficult\n",
    "- 4. Very difficult <br>\n",
    "\n",
    "Looking at the results of the bar plot below, it is not suprising that people who always vote have the highest percentage of people who think voting is easy. But, there are more people who rarely/never voter who think voting is easy than I would have expected. This makes me wonder why people aren't voting if they think its easy. "
   ]
  },
  {
   "cell_type": "code",
   "execution_count": 34,
   "metadata": {},
   "outputs": [
    {
     "data": {
      "image/png": "[encoded data removed]",
      "text/plain": [
       "<Figure size 432x288 with 1 Axes>"
      ]
     },
     "metadata": {
      "needs_background": "light"
     },
     "output_type": "display_data"
    }
   ],
   "source": [
    "sub1 = data[['Q16', 'voter_category']]\n",
    "sub = sub1[sub1['Q16'] != 3]\n",
    "sub = sub[sub['Q16'] != 4] #subset the data to only include people who answered easy or somewhat easy\n",
    "\n",
    "x = sub.voter_category.unique()\n",
    "dict = {}\n",
    "for category in sub.voter_category.unique():\n",
    "    categorydf = sub[sub['voter_category'] == category]\n",
    "    count = len(categorydf)\n",
    "    subset = sub1[sub1['voter_category'] == category]\n",
    "    percent = count / len(subset)\n",
    "    dict[category] = percent\n",
    "\n",
    "y = dict.values()    \n",
    "plt.bar(x, y, color='blue')\n",
    "plt.xlabel(\"Voter Category\")\n",
    "plt.ylabel(\"%\")\n",
    "plt.title(\"Who thinks voting is easy?\")\n",
    "plt.show()"
   ]
  },
  {
   "cell_type": "markdown",
   "metadata": {},
   "source": [
    "Poll Q20: Are you currently registered to vote?\n",
    "- 1. Yes\n",
    "- 2. No <br>\n",
    "\n",
    "Lots of sporadic people are registered to vote, but why aren't they always voting? Over 60% of those who rarely/never vote are registered. What is stopping them from voting?"
   ]
  },
  {
   "cell_type": "code",
   "execution_count": 36,
   "metadata": {},
   "outputs": [
    {
     "data": {
      "image/png": "[encoded data removed]",
      "text/plain": [
       "<Figure size 432x288 with 1 Axes>"
      ]
     },
     "metadata": {
      "needs_background": "light"
     },
     "output_type": "display_data"
    }
   ],
   "source": [
    "sub1 = data[['Q20', 'voter_category']]\n",
    "sub = sub1[sub1['Q20'] == 1]\n",
    "\n",
    "x = sub.voter_category.unique()\n",
    "dict = {}\n",
    "for category in sub.voter_category.unique():\n",
    "    categorydf = sub[sub['voter_category'] == category]\n",
    "    count = len(categorydf)\n",
    "    subset = sub1[sub1['voter_category'] == category]\n",
    "    percent = count / len(subset)\n",
    "    dict[category] = percent\n",
    "\n",
    "y = dict.values()    \n",
    "plt.bar(x, y, color='blue')\n",
    "plt.xlabel(\"Voter Category\")\n",
    "plt.ylabel(\"%\")\n",
    "plt.title(\"Who is registered to vote?\")\n",
    "plt.show()"
   ]
  },
  {
   "cell_type": "markdown",
   "metadata": {},
   "source": [
    "Poll Q29: Thinking back to the last few national elections where you decided not to vote, which of the following were the most important reasons in your decision not to vote? Please choose all that apply.\n",
    "- 1. I didn’t like any of the candidates\n",
    "- 2. Because of where I live, my vote doesn’t matter\n",
    "- 3. No matter who wins, nothing will change for people like me\n",
    "- 4. Our system is too broken to be fixed by voting\n",
    " -5. I wanted to vote, but I didn’t have time, couldn’t get off work, something came up, or I\n",
    "forgot\n",
    "- 6. I’m not sure if I can vote\n",
    "- 7. Nobody talks about the issues that are important to me personally\n",
    "- 8. All the candidates are the same\n",
    "- 9. I don’t believe in voting\n",
    "- 10. Other [specify] [A]\n",
    "\n",
    "<br> \n",
    "one interesting thing we noticed when doing this EDA was that there were NA's in this question, even when subsetting for only the 'rarely/never' voters. This means that there is a disconnect between what people are answering in the polls about the amoutn they vote versus the metadata that fivethirtyeight has about the individuals voter category. <br>\n",
    "Also, looking at the bar graph we can see that q29_3 has the highest number. This question is people who said they did not vote because \"No matter who wins, nothing will change for people like me\"."
   ]
  },
  {
   "cell_type": "code",
   "execution_count": 49,
   "metadata": {},
   "outputs": [
    {
     "data": {
      "image/png": "[encoded data removed]",
      "text/plain": [
       "<Figure size 432x288 with 1 Axes>"
      ]
     },
     "metadata": {
      "needs_background": "light"
     },
     "output_type": "display_data"
    }
   ],
   "source": [
    "sub1 = data[['Q29_1', 'Q29_2', 'Q29_3', 'Q29_4', 'Q29_5', 'Q29_6', 'Q29_7', 'Q29_8', 'Q29_9', 'voter_category']]\n",
    "sub = sub1[sub1['voter_category']== 'rarely/never']\n",
    "\n",
    "x = ['Q29_1', 'Q29_2', 'Q29_3', 'Q29_4', 'Q29_5', 'Q29_6', 'Q29_7', 'Q29_8', 'Q29_9']\n",
    "dict = {}\n",
    "for q in x:\n",
    "    count = sum(sub1[q]== 1.0)\n",
    "    dict[q] = count\n",
    "\n",
    "y = dict.values()    \n",
    "plt.bar(x, y, color='blue')\n",
    "plt.xlabel(\"Reason for not voting\")\n",
    "plt.ylabel(\"Count\")\n",
    "plt.title(\"Why aren't people voting?\")\n",
    "plt.show()"
   ]
  },
  {
   "cell_type": "code",
   "execution_count": null,
   "metadata": {},
   "outputs": [],
   "source": []
  }
 ],
 "metadata": {
  "kernelspec": {
   "display_name": "Python 3",
   "language": "python",
   "name": "python3"
  },
  "language_info": {
   "codemirror_mode": {
    "name": "ipython",
    "version": 3
   },
   "file_extension": ".py",
   "mimetype": "text/x-python",
   "name": "python",
   "nbconvert_exporter": "python",
   "pygments_lexer": "ipython3",
   "version": "3.7.4"
  }
 },
 "nbformat": 4,
 "nbformat_minor": 4
}
