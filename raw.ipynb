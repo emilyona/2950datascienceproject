{
 "cells": [
  {
   "cell_type": "markdown",
   "metadata": {},
   "source": [
    "# Introduction"
   ]
  },
  {
   "cell_type": "markdown",
   "metadata": {},
   "source": [
    "In November 2020, the United States of America elected a new President (which we now know is Joe Biden). During this election, anyone in the United States will attest that there has been much division with each side not understanding each other. Many of us truely felt that the results would impact the next 4 years of our lives. \n",
    "\n",
    "While spending much energy thinking about this election and the results thereof, we decided it would be useful to devote time to understanding different types of voters.\n",
    "\n",
    "Research questions: Who is voting? What factors impact how frequently an individual votes?\n",
    "\n",
    "We found that while gender is associated with frequency of voting, race may be even more strongly associated with how frequently an individual votes. \n",
    "\n",
    "We also found that we were able to predict an individuals frequency of voting with approximately 80% accuracy. In order to predict frequency of voting, we used data such as race, gender, age, employment status, if they reported having a chronic illness, if they reported having a disability, etc. \n"
   ]
  },
  {
   "cell_type": "markdown",
   "metadata": {},
   "source": [
    "# Phase 2"
   ]
  },
  {
   "cell_type": "markdown",
   "metadata": {},
   "source": [
    "## Research Questions:\n",
    "- What are the biggest barriers to voting?\n",
    "- Who is most likely to be a voter? (Can we predict who is and who is not a voter?)"
   ]
  },
  {
   "cell_type": "markdown",
   "metadata": {},
   "source": [
    "## Data Collection and Cleaning"
   ]
  },
  {
   "cell_type": "code",
   "execution_count": 1,
   "metadata": {},
   "outputs": [],
   "source": [
    "# imports\n",
    "import pandas as pd\n",
    "import numpy as np\n",
    "import matplotlib.pyplot as plt"
   ]
  },
  {
   "cell_type": "markdown",
   "metadata": {},
   "source": [
    "Data dowloaded from fivethirtyeight: https://github.com/fivethirtyeight/data/tree/master/non-voters"
   ]
  },
  {
   "cell_type": "code",
   "execution_count": 2,
   "metadata": {},
   "outputs": [
    {
     "data": {
      "text/plain": [
       "0       1\n",
       "1       1\n",
       "2       1\n",
       "3       1\n",
       "4       1\n",
       "       ..\n",
       "5831    1\n",
       "5832    1\n",
       "5833    1\n",
       "5834    1\n",
       "5835    1\n",
       "Name: Q26, Length: 5836, dtype: int64"
      ]
     },
     "execution_count": 2,
     "metadata": {},
     "output_type": "execute_result"
    }
   ],
   "source": [
    "data = pd.read_csv('nonvoters_data.csv')\n",
    "data['Q26']"
   ]
  },
  {
   "cell_type": "markdown",
   "metadata": {},
   "source": [
    "Rename columns:"
   ]
  },
  {
   "cell_type": "code",
   "execution_count": 3,
   "metadata": {},
   "outputs": [],
   "source": [
    "data.columns = ['Id','weight','Q1','Q2_1','Q2_2','Q2_3','Q2_4','Q2_5','Q2_6','Q2_7','Q2_8','Q2_9',\n",
    "                'Q2_10','Q3_1','Q3_2','Q3_3','Q3_4','Q3_5','Q3_6','Q4_1','Q4_2','Q4_3','Q4_4','Q4_5',\n",
    "                'Q4_6','Q5','Q6','Q7','Q8_1','Q8_2','Q8_3','Q8_4','Q8_5','Q8_6','Q8_7','Q8_8',\n",
    "                'Q8_9','Q9_1','Q9_2','Q9_3','Q9_4','Q10_1','Q10_2','Q10_3','Q10_4','Q11_1','Q11_2',\n",
    "                'Q11_3','Q11_4','Q11_5','Q11_6','Q14','Q15','Q16','Q17_1','Q17_2','Q17_3','Q17_4',\n",
    "                'Q18_1','Q18_2','Q18_3','Q18_4','Q18_5','Q18_6','Q18_7','Q18_8','Q18_9','Q18_10',\n",
    "                'Q19_1','Q19_2','Q19_3','Q19_4','Q19_5','Q19_6','Q19_7','Q19_8','Q19_9','Q19_10',\n",
    "                'Q20', 'Q21', 'Q22', 'Q23', 'Q24', 'Q25', 'Q26', 'Q27_1', 'Q27_2', 'Q27_3', 'Q27_4',\n",
    "                'Q27_5','Q27_6','Q28_1','Q28_2','Q28_3','Q28_4','Q28_5','Q28_6','Q28_7','Q28_8',\n",
    "                'Q29_1','Q29_2','Q29_3','Q29_4','Q29_5','Q29_6','Q29_7','Q29_8','Q29_9','Q29_10',\n",
    "                'Q30', 'Q31', 'Q32', 'Q33', 'age', 'education', 'race', 'gender', 'income','voter_category']"
   ]
  },
  {
   "cell_type": "markdown",
   "metadata": {},
   "source": [
    "## Data description\n",
    "- What are the observations (rows) and the attributes (columns)?\n",
    "    - the rows of the dataset are individuals (voters or non voters) who participated in Ipsos for FiveThirtyEight's poll. the columns Q1 - Q33 corresponds to questions from the poll and the individuals answers to these questions (muliptle choice). The final columns are demographic information about the individuals (age, education, race, gender, income) and the last column is voter stats (always, sporadic, rarely/never)\n",
    "- Why was this dataset created?\n",
    "    - this dataset was created by fivethirtyeight in order to analyze why americans don't vote.\n",
    "- Who funded the creation of the dataset?\n",
    "    - Ipsos for FiveThirtyEight\n",
    "- What processes might have influenced what data was observed and recorded and what was not?\n",
    "    - Minorities (young people, african americans, hispanics... etc.) all are less likely to be sampled. The sampling scheme employed by FiveThrityEight used a sample of U.S. citizens that oversampled young, Black and Hispanic respondents, with 8,327 respondents, and was weighted according to general population benchmarks for U.S. citizens from the U.S. Census Bureau. The sample was then matched to a voter profile through the voter file company Aritotle. Since non-voters are more likely to not be matched to the voter file, respondants were included who did not match the voter file but described themselves as voting “rarely” or “never” in the survey, so as to avoid underrepresenting nonvoters.\n",
    "- What preprocessing was done, and how did the data come to be in the form that you are using?\n",
    "    - dropped respondents who were only eligible to vote in three elections or fewer\n",
    "    - defined those who almost always vote as those who voted in all (or all but one) of the national elections (presidential and midterm) they were eligible to vote in since 2000; those who vote sometimes as those who voted in at least two elections, but fewer than all the elections they were eligible to vote in (or all but one); and those who rarely or never vote as those who voted in no elections, or just one\n",
    "    - data includes 5,239 respondents who matched to the voter file and whose verified vote history we have, and 597 respondents who did not match to the voter file and described themselves as voting \"rarely\" or \"never,\" all of whom have been eligible for at least 4 elections\n",
    "- If people are involved, were they aware of the data collection and if so, what purpose did they expect the data to be used for?\n",
    "    - yes they were aware. Poll was conducted by Ipsos for FiveThrityEight and respondent knew that data was to be used for FiveThrityEight's opinion poll analysis blog\n",
    "- Where can your raw source data be found, if applicable? Provide a link to the raw data (hosted in a Cornell Google Drive or Cornell Box). \n",
    "    - https://github.com/fivethirtyeight/data/tree/master/non-voters"
   ]
  },
  {
   "cell_type": "markdown",
   "metadata": {},
   "source": [
    "## Data Limitations"
   ]
  },
  {
   "cell_type": "markdown",
   "metadata": {},
   "source": [
    "- one thing we noticed when doing our EDA was that there is a disconnect between some individuals poll responses and their voter file data from Aristotle. People might not always answer polls truthfully. "
   ]
  },
  {
   "cell_type": "markdown",
   "metadata": {},
   "source": [
    "## Exploratory Data Analysis"
   ]
  },
  {
   "cell_type": "markdown",
   "metadata": {},
   "source": [
    "### Stacked Barcharts:\n",
    "Voter category by demographic info"
   ]
  },
  {
   "cell_type": "markdown",
   "metadata": {},
   "source": [
    "Voter category and race:\n",
    "<br>\n",
    "Largest percentage of people who always vote is white people. Minorities are less likely to vote regularly vote. "
   ]
  },
  {
   "cell_type": "code",
   "execution_count": 4,
   "metadata": {},
   "outputs": [
    {
     "data": {
      "image/png": "[encoded data removed]",
      "text/plain": [
       "<Figure size 720x504 with 1 Axes>"
      ]
     },
     "metadata": {
      "needs_background": "light"
     },
     "output_type": "display_data"
    }
   ],
   "source": [
    "# voter status by race\n",
    "sub = data[['race', 'voter_category']]\n",
    "sub.race.unique()\n",
    "dict = {}\n",
    "for category in sub.voter_category.unique():\n",
    "    vals = []\n",
    "    categorydf = sub[sub['voter_category'] == category]\n",
    "    for race in sub.race.unique():\n",
    "        racecat = categorydf[categorydf['race'] == race]\n",
    "        vals.append(len(racecat))\n",
    "    dict[category] = vals\n",
    "\n",
    "# stacked bar plot\n",
    "x = sub.race.unique()\n",
    "always = np.array(dict['always'])\n",
    "sporadic = np.array(dict['sporadic'])\n",
    "rarely = np.array(dict['rarely/never'])\n",
    "total = always+sporadic+rarely\n",
    "proportion_always = np.true_divide(always, total) * 100\n",
    "proportion_sporadic = np.true_divide(sporadic, total) * 100\n",
    "proportion_rarely = np.true_divide(rarely, total) * 100\n",
    "\n",
    "#add colors\n",
    "colors = ['#FF9999', '#00BFFF','#C1FFC1','#CAE1FF','#FFDEAD']\n",
    "# The position of the bars on the x-axis\n",
    "r = range(len(x))\n",
    "barWidth = 1\n",
    "#plot bars\n",
    "plt.figure(figsize = (10,7))\n",
    "ax1 = plt.bar(r, proportion_always, bottom = proportion_sporadic + proportion_rarely, color = colors[0], edgecolor = 'white', width = barWidth, label = 'Always')\n",
    "ax3 = plt.bar(r, proportion_sporadic, bottom = proportion_rarely, color = colors[1], edgecolor = 'white', width = barWidth, label = 'Sporadic')\n",
    "ax4 = plt.bar(r, proportion_rarely, color = colors[2], edgecolor = 'white', width=barWidth, label = 'Rarely/Never')\n",
    "plt.legend()\n",
    "plt.xticks(r, x, fontweight = 'bold')\n",
    "plt.xlabel(\"Race\")\n",
    "plt.ylabel(\"Voter Status (%)\")\n",
    "plt.title(\"Voter Category and Race\")\n",
    "plt.show()\n"
   ]
  },
  {
   "cell_type": "markdown",
   "metadata": {},
   "source": [
    "Voter Category and Income:\n",
    "<br>\n",
    "people who make less and 40k are alot more likely to never vote. "
   ]
  },
  {
   "cell_type": "code",
   "execution_count": 5,
   "metadata": {},
   "outputs": [
    {
     "data": {
      "image/png": "[encoded data removed]",
      "text/plain": [
       "<Figure size 720x504 with 1 Axes>"
      ]
     },
     "metadata": {
      "needs_background": "light"
     },
     "output_type": "display_data"
    }
   ],
   "source": [
    "# voter status by income\n",
    "sub = data[['income', 'voter_category']]\n",
    "dict = {}\n",
    "for category in sub.voter_category.unique():\n",
    "    vals = []\n",
    "    categorydf = sub[sub['voter_category'] == category]\n",
    "    for inc in sub.income.unique():\n",
    "        inccat = categorydf[categorydf['income'] == inc]\n",
    "        vals.append(len(inccat))\n",
    "    dict[category] = vals\n",
    "\n",
    "# stacked bar plot\n",
    "x = sub.income.unique()\n",
    "always = np.array(dict['always'])\n",
    "sporadic = np.array(dict['sporadic'])\n",
    "rarely = np.array(dict['rarely/never'])\n",
    "total = always+sporadic+rarely\n",
    "proportion_always = np.true_divide(always, total) * 100\n",
    "proportion_sporadic = np.true_divide(sporadic, total) * 100\n",
    "proportion_rarely = np.true_divide(rarely, total) * 100\n",
    "\n",
    "#add colors\n",
    "colors = ['#FF9999', '#00BFFF','#C1FFC1','#CAE1FF','#FFDEAD']\n",
    "# The position of the bars on the x-axis\n",
    "r = range(len(x))\n",
    "barWidth = 1\n",
    "#plot bars\n",
    "plt.figure(figsize = (10,7))\n",
    "ax1 = plt.bar(r, proportion_always, bottom = proportion_sporadic + proportion_rarely, color = colors[0], edgecolor = 'white', width = barWidth, label = 'Always')\n",
    "ax3 = plt.bar(r, proportion_sporadic, bottom = proportion_rarely, color = colors[1], edgecolor = 'white', width = barWidth, label = 'Sporadic')\n",
    "ax4 = plt.bar(r, proportion_rarely, color = colors[2], edgecolor = 'white', width=barWidth, label = 'Rarely/Never')\n",
    "plt.legend()\n",
    "plt.xticks(r, x, fontweight = 'bold')\n",
    "plt.xlabel(\"Income\")\n",
    "plt.ylabel(\"Voter Status (%)\")\n",
    "plt.title(\"Voter Category and Income\")\n",
    "plt.show()"
   ]
  },
  {
   "cell_type": "markdown",
   "metadata": {},
   "source": [
    "Voter category and education:\n",
    "<br>\n",
    "higher education level is associated with being more likely to vote. "
   ]
  },
  {
   "cell_type": "code",
   "execution_count": 6,
   "metadata": {},
   "outputs": [
    {
     "data": {
      "image/png": "[encoded data removed]",
      "text/plain": [
       "<Figure size 720x504 with 1 Axes>"
      ]
     },
     "metadata": {
      "needs_background": "light"
     },
     "output_type": "display_data"
    }
   ],
   "source": [
    "# voter status by demographic info\n",
    "sub = data[['education', 'voter_category']]\n",
    "dict = {}\n",
    "for category in sub.voter_category.unique():\n",
    "    vals = []\n",
    "    categorydf = sub[sub['voter_category'] == category]\n",
    "    for edu in sub.education.unique():\n",
    "        educat = categorydf[categorydf['education'] == edu]\n",
    "        vals.append(len(educat))\n",
    "    dict[category] = vals\n",
    "\n",
    "# stacked bar plot\n",
    "x = sub.education.unique()\n",
    "always = np.array(dict['always'])\n",
    "sporadic = np.array(dict['sporadic'])\n",
    "rarely = np.array(dict['rarely/never'])\n",
    "total = always+sporadic+rarely\n",
    "proportion_always = np.true_divide(always, total) * 100\n",
    "proportion_sporadic = np.true_divide(sporadic, total) * 100\n",
    "proportion_rarely = np.true_divide(rarely, total) * 100\n",
    "\n",
    "#add colors\n",
    "colors = ['#FF9999', '#00BFFF','#C1FFC1','#CAE1FF','#FFDEAD']\n",
    "# The position of the bars on the x-axis\n",
    "r = range(len(x))\n",
    "barWidth = 1\n",
    "#plot bars\n",
    "plt.figure(figsize = (10,7))\n",
    "ax1 = plt.bar(r, proportion_always, bottom = proportion_sporadic + proportion_rarely, color = colors[0], edgecolor = 'white', width = barWidth, label = 'Always')\n",
    "ax3 = plt.bar(r, proportion_sporadic, bottom = proportion_rarely, color = colors[1], edgecolor = 'white', width = barWidth, label = 'Sporadic')\n",
    "ax4 = plt.bar(r, proportion_rarely, color = colors[2], edgecolor = 'white', width=barWidth, label = 'Rarely/Never')\n",
    "plt.legend()\n",
    "plt.xticks(r, x, fontweight = 'bold')\n",
    "plt.xlabel(\"Race\")\n",
    "plt.ylabel(\"Voter Status (%)\")\n",
    "plt.title(\"Voter Category and Race\")\n",
    "plt.show()"
   ]
  },
  {
   "cell_type": "markdown",
   "metadata": {},
   "source": [
    "Voter Category and Gender:\n",
    "<br>\n",
    "male and females have very similar results. Slightly larger percentage of females who always votes. "
   ]
  },
  {
   "cell_type": "code",
   "execution_count": 7,
   "metadata": {},
   "outputs": [
    {
     "data": {
      "image/png": "[encoded data removed]",
      "text/plain": [
       "<Figure size 720x504 with 1 Axes>"
      ]
     },
     "metadata": {
      "needs_background": "light"
     },
     "output_type": "display_data"
    }
   ],
   "source": [
    "#voter status by demographic info\n",
    "sub = data[['gender', 'voter_category']]\n",
    "dict = {}\n",
    "for category in sub.voter_category.unique():\n",
    "    vals = []\n",
    "    categorydf = sub[sub['voter_category'] == category]\n",
    "    for g in sub.gender.unique():\n",
    "        gcat = categorydf[categorydf['gender'] == g]\n",
    "        vals.append(len(gcat))\n",
    "    dict[category] = vals\n",
    "\n",
    "# stacked bar plot\n",
    "x = sub.gender.unique()\n",
    "always = np.array(dict['always'])\n",
    "sporadic = np.array(dict['sporadic'])\n",
    "rarely = np.array(dict['rarely/never'])\n",
    "total = always+sporadic+rarely\n",
    "proportion_always = np.true_divide(always, total) * 100\n",
    "proportion_sporadic = np.true_divide(sporadic, total) * 100\n",
    "proportion_rarely = np.true_divide(rarely, total) * 100\n",
    "\n",
    "#add colors\n",
    "colors = ['#FF9999', '#00BFFF','#C1FFC1','#CAE1FF','#FFDEAD']\n",
    "# The position of the bars on the x-axis\n",
    "r = range(len(x))\n",
    "barWidth = 1\n",
    "#plot bars\n",
    "plt.figure(figsize = (10,7))\n",
    "ax1 = plt.bar(r, proportion_always, bottom = proportion_sporadic + proportion_rarely, color = colors[0], edgecolor = 'white', width = barWidth, label = 'Always')\n",
    "ax3 = plt.bar(r, proportion_sporadic, bottom = proportion_rarely, color = colors[1], edgecolor = 'white', width = barWidth, label = 'Sporadic')\n",
    "ax4 = plt.bar(r, proportion_rarely, color = colors[2], edgecolor = 'white', width=barWidth, label = 'Rarely/Never')\n",
    "plt.legend()\n",
    "plt.xticks(r, x, fontweight = 'bold')\n",
    "plt.xlabel(\"Race\")\n",
    "plt.ylabel(\"Voter Status (%)\")\n",
    "plt.title(\"Voter Category and Race\")\n",
    "plt.show()"
   ]
  },
  {
   "cell_type": "markdown",
   "metadata": {},
   "source": [
    "EDA about the poll questions:"
   ]
  },
  {
   "cell_type": "markdown",
   "metadata": {},
   "source": [
    "Poll Q5: As far as making progress on the important issues facing the country, does it really\n",
    "matter who wins the 2020 presidential election, or will things be pretty much the same\n",
    "regardless of who is elected president?\n",
    "- 1. Who wins the elction really matters\n",
    "- 2. Things will be pretty much the same <br>\n",
    "\n",
    "Its not too suprising that those who always vote think that their 2020 vote really matters. What i think is interesting is that the sporadic categroy also has a large percentage of people who think their 2020 vote really matters. It makes me wonder if this is different than in the past (will this sporadic people be more likely to vote in 2020 than past elections?). It also makes me wonder about the 'rarely/never' people. Are those rarely/never people who think their 2020 vote matters going to vote this year? Why do the people who ansered \"Things will be the same\" not think the election result matters?"
   ]
  },
  {
   "cell_type": "code",
   "execution_count": 8,
   "metadata": {},
   "outputs": [
    {
     "data": {
      "image/png": "[encoded data removed]",
      "text/plain": [
       "<Figure size 432x288 with 1 Axes>"
      ]
     },
     "metadata": {
      "needs_background": "light"
     },
     "output_type": "display_data"
    }
   ],
   "source": [
    "sub1 = data[['Q5', 'voter_category']]\n",
    "sub = sub1[sub1['Q5'] == 1]\n",
    "\n",
    "x = sub.voter_category.unique()\n",
    "dict = {}\n",
    "for category in sub.voter_category.unique():\n",
    "    categorydf = sub[sub['voter_category'] == category]\n",
    "    count = len(categorydf)\n",
    "    subset = sub1[sub1['voter_category'] == category]\n",
    "    percent = count / len(subset)\n",
    "    dict[category] = percent\n",
    "\n",
    "y = dict.values()    \n",
    "plt.bar(x, y, color='blue')\n",
    "plt.xlabel(\"Voter Category\")\n",
    "plt.ylabel(\"%\")\n",
    "plt.title(\"Who thinks their 2020 vote matters?\")\n",
    "plt.show()"
   ]
  },
  {
   "cell_type": "markdown",
   "metadata": {},
   "source": [
    "Poll Q16: In general, how easy or difficult do you think it is to vote in national elections?\n",
    "- 1. Very easy\n",
    "- 2. Somewhat easy\n",
    "- 3. Somewhat difficult\n",
    "- 4. Very difficult <br>\n",
    "\n",
    "Looking at the results of the bar plot below, it is not suprising that people who always vote have the highest percentage of people who think voting is easy. But, there are more people who rarely/never voter who think voting is easy than I would have expected. This makes me wonder why people aren't voting if they think its easy. "
   ]
  },
  {
   "cell_type": "code",
   "execution_count": 9,
   "metadata": {},
   "outputs": [
    {
     "data": {
      "image/png": "[encoded data removed]",
      "text/plain": [
       "<Figure size 432x288 with 1 Axes>"
      ]
     },
     "metadata": {
      "needs_background": "light"
     },
     "output_type": "display_data"
    }
   ],
   "source": [
    "sub1 = data[['Q16', 'voter_category']]\n",
    "sub = sub1[sub1['Q16'] != 3]\n",
    "sub = sub[sub['Q16'] != 4] #subset the data to only include people who answered easy or somewhat easy\n",
    "\n",
    "x = sub.voter_category.unique()\n",
    "dict = {}\n",
    "for category in sub.voter_category.unique():\n",
    "    categorydf = sub[sub['voter_category'] == category]\n",
    "    count = len(categorydf)\n",
    "    subset = sub1[sub1['voter_category'] == category]\n",
    "    percent = count / len(subset)\n",
    "    dict[category] = percent\n",
    "\n",
    "y = dict.values()    \n",
    "plt.bar(x, y, color='blue')\n",
    "plt.xlabel(\"Voter Category\")\n",
    "plt.ylabel(\"%\")\n",
    "plt.title(\"Who thinks voting is easy?\")\n",
    "plt.show()"
   ]
  },
  {
   "cell_type": "markdown",
   "metadata": {},
   "source": [
    "Poll Q20: Are you currently registered to vote?\n",
    "- 1. Yes\n",
    "- 2. No <br>\n",
    "\n",
    "Lots of sporadic people are registered to vote, but why aren't they always voting? Over 60% of those who rarely/never vote are registered. What is stopping them from voting?"
   ]
  },
  {
   "cell_type": "code",
   "execution_count": 10,
   "metadata": {},
   "outputs": [
    {
     "data": {
      "image/png": "[encoded data removed]",
      "text/plain": [
       "<Figure size 432x288 with 1 Axes>"
      ]
     },
     "metadata": {
      "needs_background": "light"
     },
     "output_type": "display_data"
    }
   ],
   "source": [
    "sub1 = data[['Q20', 'voter_category']]\n",
    "sub = sub1[sub1['Q20'] == 1]\n",
    "\n",
    "x = sub.voter_category.unique()\n",
    "dict = {}\n",
    "for category in sub.voter_category.unique():\n",
    "    categorydf = sub[sub['voter_category'] == category]\n",
    "    count = len(categorydf)\n",
    "    subset = sub1[sub1['voter_category'] == category]\n",
    "    percent = count / len(subset)\n",
    "    dict[category] = percent\n",
    "\n",
    "y = dict.values()    \n",
    "plt.bar(x, y, color='blue')\n",
    "plt.xlabel(\"Voter Category\")\n",
    "plt.ylabel(\"%\")\n",
    "plt.title(\"Who is registered to vote?\")\n",
    "plt.show()"
   ]
  },
  {
   "cell_type": "markdown",
   "metadata": {},
   "source": [
    "Poll Q29: Thinking back to the last few national elections where you decided not to vote, which of the following were the most important reasons in your decision not to vote? Please choose all that apply.\n",
    "- 1. I didn’t like any of the candidates\n",
    "- 2. Because of where I live, my vote doesn’t matter\n",
    "- 3. No matter who wins, nothing will change for people like me\n",
    "- 4. Our system is too broken to be fixed by voting\n",
    " -5. I wanted to vote, but I didn’t have time, couldn’t get off work, something came up, or I\n",
    "forgot\n",
    "- 6. I’m not sure if I can vote\n",
    "- 7. Nobody talks about the issues that are important to me personally\n",
    "- 8. All the candidates are the same\n",
    "- 9. I don’t believe in voting\n",
    "- 10. Other [specify] [A]\n",
    "\n",
    "<br> \n",
    "one interesting thing we noticed when doing this EDA was that there were NA's in this question, even when subsetting for only the 'rarely/never' voters. This means that there is a disconnect between what people are answering in the polls about the amoutn they vote versus the metadata that fivethirtyeight has about the individuals voter category. <br>\n",
    "Also, looking at the bar graph we can see that q29_3 has the highest number. This question is people who said they did not vote because \"No matter who wins, nothing will change for people like me\"."
   ]
  },
  {
   "cell_type": "code",
   "execution_count": 11,
   "metadata": {},
   "outputs": [
    {
     "data": {
      "image/png": "[encoded data removed]",
      "text/plain": [
       "<Figure size 432x288 with 1 Axes>"
      ]
     },
     "metadata": {
      "needs_background": "light"
     },
     "output_type": "display_data"
    }
   ],
   "source": [
    "sub1 = data[['Q29_1', 'Q29_2', 'Q29_3', 'Q29_4', 'Q29_5', 'Q29_6', 'Q29_7', 'Q29_8', 'Q29_9', 'voter_category']]\n",
    "sub = sub1[sub1['voter_category']== 'rarely/never']\n",
    "\n",
    "x = ['Q29_1', 'Q29_2', 'Q29_3', 'Q29_4', 'Q29_5', 'Q29_6', 'Q29_7', 'Q29_8', 'Q29_9']\n",
    "dict = {}\n",
    "for q in x:\n",
    "    count = sum(sub1[q]== 1.0)\n",
    "    dict[q] = count\n",
    "\n",
    "y = dict.values()    \n",
    "plt.bar(x, y, color='blue')\n",
    "plt.xlabel(\"Reason for not voting\")\n",
    "plt.ylabel(\"Count\")\n",
    "plt.title(\"Why aren't people voting?\")\n",
    "plt.show()"
   ]
  },
  {
   "cell_type": "markdown",
   "metadata": {},
   "source": [
    "# Phase 3"
   ]
  },
  {
   "cell_type": "markdown",
   "metadata": {},
   "source": [
    "1. Classification model to classify voter category (always, sporadic, rarely/never) -- (Possible models: Logistic regression, kNN, Decision Tree)\n",
    "2. Statistical analysis of significance of poll question answers in determining voter category. (Specifically analyzing questions related to people not voting to determine the reasons why people don't vote/what are the biggest barriers to voting.)"
   ]
  },
  {
   "cell_type": "markdown",
   "metadata": {},
   "source": [
    "Questions for reviewers:\n",
    "1. I'm not sure what the best way to go about the analysis of the poll questions. Would using them in a model to predict voter category and then looking at feature importance be good? Should we be using hypothsis testing?\n",
    "2. We also changed out dataset and redid phase 2. Do we need to notify anyone of this change (i've included our new phase 2 below)? "
   ]
  },
  {
   "cell_type": "markdown",
   "metadata": {},
   "source": [
    "# Phase 4"
   ]
  },
  {
   "cell_type": "markdown",
   "metadata": {},
   "source": [
    "To predict voter category we decided to implement a logistic regression model. We separated voters into the categories 'always' (meaning they always vote in national elections (voted in all or all but one) and 'rarely/never' (meaning they have voted in just one or no national elections). We then fit a logistic regression model with predictors being the voter demographic information (income, gender, race, education, unemployment status, illness status, diability status) as well as their answers to three poll questions. The first poll question asked if the voter thought that voting in elections was very important to being a good american. The second poll question asked if the voter thought the elected officals in their city/community had a significant impact on their life. The third poll question asked if the voter thinks a lot of changes are needed in the design and structure of American government. "
   ]
  },
  {
   "cell_type": "code",
   "execution_count": 46,
   "metadata": {
    "scrolled": true
   },
   "outputs": [
    {
     "name": "stderr",
     "output_type": "stream",
     "text": [
      "/opt/anaconda3/lib/python3.8/site-packages/pandas/core/indexing.py:966: SettingWithCopyWarning: \n",
      "A value is trying to be set on a copy of a slice from a DataFrame.\n",
      "Try using .loc[row_indexer,col_indexer] = value instead\n",
      "\n",
      "See the caveats in the documentation: https://pandas.pydata.org/pandas-docs/stable/user_guide/indexing.html#returning-a-view-versus-a-copy\n",
      "  self.obj[item] = s\n"
     ]
    }
   ],
   "source": [
    "#Logistic Regression\n",
    "from sklearn.model_selection import train_test_split\n",
    "#subset data so we only have two classes\n",
    "subset = data.loc[data['voter_category'] != 'sporadic']\n",
    "\n",
    "# create dummy variables\n",
    "subset.loc[:, 'is_less40'] = pd.get_dummies(subset['income'])['Less than $40k']\n",
    "subset.loc[:, 'is_4075'] = pd.get_dummies(subset['income'])['$40-75k']\n",
    "subset.loc[:, 'is_125more'] = pd.get_dummies(subset['income'])['$125k or more']\n",
    "subset.loc[:, 'is_75125'] = pd.get_dummies(subset['income'])['$75-125k']\n",
    "subset.loc[:, 'is_female'] = pd.get_dummies(subset['gender'])['Female']\n",
    "subset.loc[:, 'is_white'] = pd.get_dummies(subset['race'])['White']\n",
    "subset.loc[:, 'is_black'] = pd.get_dummies(subset['race'])['Black']\n",
    "subset.loc[:, 'is_other'] = pd.get_dummies(subset['race'])['Other/Mixed']\n",
    "subset.loc[:, 'is_hispanic'] = pd.get_dummies(subset['race'])['Hispanic']\n",
    "subset.loc[:, 'is_college'] = pd.get_dummies(subset['education'])['College']\n",
    "subset.loc[:, 'is_somecollege'] = pd.get_dummies(subset['education'])['Some college']\n",
    "subset.loc[:, 'is_highschool'] = pd.get_dummies(subset['education'])['High school or less']\n",
    "subset.loc[:, 'is_unemployed'] = pd.get_dummies(subset['Q10_3'])[1]\n",
    "subset.loc[:, 'is_illness'] = pd.get_dummies(subset['Q10_2'])[1]\n",
    "subset.loc[:, 'is_disability'] = pd.get_dummies(subset['Q10_1'])[2]\n",
    "subset.loc[:, 'is_changes'] = pd.get_dummies(subset['Q7'])[1]\n",
    "subset.loc[:, 'is_important'] = pd.get_dummies(subset['Q2_1'])[1]\n",
    "subset.loc[:, 'is_elected'] = pd.get_dummies(subset['Q4_3'])[1]\n",
    "\n",
    "features = ['age', 'is_college', 'is_somecollege', 'is_highschool', 'is_white', 'is_black', 'is_other', 'is_hispanic', 'is_female', 'is_less40', 'is_4075', 'is_125more', 'is_75125', 'is_unemployed', 'is_illness', 'is_disability', 'is_changes', 'is_important', 'is_elected']\n",
    "X = subset[features]\n",
    "y = subset['voter_category']\n",
    "X_train, X_test, y_train, y_test = train_test_split(X, y, test_size=0.2, random_state=1714)"
   ]
  },
  {
   "cell_type": "code",
   "execution_count": 47,
   "metadata": {},
   "outputs": [],
   "source": [
    "from sklearn.linear_model import LogisticRegression\n",
    "logit = LogisticRegression(class_weight = 'balanced', max_iter = 1000).fit(X_train, y_train)\n",
    "y_pred = logit.predict(X_test)\n",
    "score = logit.score(X_test, y_test)"
   ]
  },
  {
   "cell_type": "code",
   "execution_count": 62,
   "metadata": {},
   "outputs": [
    {
     "name": "stdout",
     "output_type": "stream",
     "text": [
      "Test accuracy: 0.4820205479452055\n"
     ]
    }
   ],
   "source": [
    "print(\"Test accuracy:\", score)"
   ]
  },
  {
   "cell_type": "code",
   "execution_count": 50,
   "metadata": {},
   "outputs": [],
   "source": [
    "count = 0\n",
    "for i in subset['voter_category']:\n",
    "    if i == 'always':\n",
    "        count = count + 1"
   ]
  },
  {
   "cell_type": "code",
   "execution_count": 63,
   "metadata": {},
   "outputs": [
    {
     "name": "stdout",
     "output_type": "stream",
     "text": [
      "Baseline accuracy:  0.5551808706315144\n"
     ]
    }
   ],
   "source": [
    "print(\"Baseline accuracy: \", count/3262)"
   ]
  },
  {
   "cell_type": "markdown",
   "metadata": {},
   "source": [
    "Our model had a prediction accuracy of 0.802. Baseline accuracy is 0.55. Our model predicts with aprox 80% accuracy voter category (always versus never) which is a large improvement from the baseline. "
   ]
  },
  {
   "cell_type": "markdown",
   "metadata": {},
   "source": [
    "Below we used chi squared model to determine if there were an association with gender (male/female) and voting categories-- 'always' (meaning they always vote in national elections (voted in all or all but one) and 'rarely/never' (meaning they have voted in just one or no national elections). "
   ]
  },
  {
   "cell_type": "code",
   "execution_count": 125,
   "metadata": {
    "scrolled": true
   },
   "outputs": [
    {
     "data": {
      "text/plain": [
       "[[939, 1267, 690], [872, 1307, 761]]"
      ]
     },
     "execution_count": 125,
     "metadata": {},
     "output_type": "execute_result"
    }
   ],
   "source": [
    "female_always = len(data.loc[(data[\"gender\"] == \"Female\") & (data[\"voter_category\"] == \"always\")])\n",
    "female_sporadic = len(data.loc[(data[\"gender\"] == \"Female\") & (data[\"voter_category\"] == \"sporadic\")])\n",
    "female_rarely = len(data.loc[(data[\"gender\"] == \"Female\") & (data[\"voter_category\"] == \"rarely/never\")])\n",
    "male_always = len(data.loc[(data[\"gender\"] == \"Male\") & (data[\"voter_category\"] == \"always\")])\n",
    "male_sporadic = len(data.loc[(data[\"gender\"] == \"Male\") & (data[\"voter_category\"] == \"sporadic\")])\n",
    "male_rarely = len(data.loc[(data[\"gender\"] == \"Male\") & (data[\"voter_category\"] == \"rarely/never\")])\n",
    "\n",
    "table = [[female_always, female_sporadic, female_rarely], [male_always, male_sporadic, male_rarely]]\n",
    "table"
   ]
  },
  {
   "cell_type": "markdown",
   "metadata": {},
   "source": [
    "above, we created a contingency table as the following with the counts from our dataset of how each gender votes: \\\n",
    "&nbsp;&nbsp;&nbsp;&nbsp;&nbsp;&nbsp;&nbsp;&nbsp;&nbsp;&nbsp; always votes&nbsp;&nbsp;&nbsp;&nbsp;sporadically votes&nbsp;&nbsp;&nbsp;&nbsp;rarely/never votes \\\n",
    "female &nbsp;&nbsp;&nbsp;&nbsp;&nbsp;&nbsp; 939&nbsp;&nbsp;&nbsp;&nbsp;&nbsp;&nbsp; &nbsp;&nbsp;&nbsp;&nbsp;&nbsp;&nbsp;&nbsp;&nbsp;&nbsp;&nbsp;&nbsp;&nbsp; 1267&nbsp;&nbsp;&nbsp;&nbsp;&nbsp;&nbsp;&nbsp;&nbsp;&nbsp;&nbsp;&nbsp;&nbsp;&nbsp;&nbsp;&nbsp;&nbsp;&nbsp;&nbsp;&nbsp;&nbsp;&nbsp;&nbsp;&nbsp;&nbsp;&nbsp;&nbsp;&nbsp;&nbsp; 690  \n",
    "male &nbsp;&nbsp;&nbsp;&nbsp;&nbsp;&nbsp;&nbsp;&nbsp;&nbsp;&nbsp; 872&nbsp;&nbsp;&nbsp;&nbsp;&nbsp;&nbsp; &nbsp;&nbsp;&nbsp;&nbsp;&nbsp;&nbsp;&nbsp;&nbsp;&nbsp;&nbsp;&nbsp;&nbsp;&nbsp;1307&nbsp;&nbsp;&nbsp;&nbsp;&nbsp;&nbsp;&nbsp;&nbsp;&nbsp;&nbsp;&nbsp;&nbsp;&nbsp;&nbsp;&nbsp;&nbsp;&nbsp;&nbsp;&nbsp;&nbsp;&nbsp;&nbsp;&nbsp;&nbsp;&nbsp;&nbsp;&nbsp;761  \\\n",
    "Null hypothesis: Gender and frequency of voting are independent (or there is no association\\\n",
    "Alternative hypothesis: Gender and frequency of voting are not independent (or they are associated)"
   ]
  },
  {
   "cell_type": "code",
   "execution_count": 130,
   "metadata": {},
   "outputs": [
    {
     "name": "stdout",
     "output_type": "stream",
     "text": [
      "alpha=0.0500, p-value=0.0441\n",
      "Strong evidence that variables are associated, thus we will reject our null hypothesis\n"
     ]
    }
   ],
   "source": [
    "from scipy import stats\n",
    "from scipy.stats import chi2_contingency\n",
    "stat, p, dof, expected = chi2_contingency(table)\n",
    "alpha = 0.05\n",
    "print('alpha=%.4f, p-value=%.4f' % (alpha, p))\n",
    "if p <= alpha:\n",
    "    print('Strong evidence that variables are associated, thus we will reject our null hypothesis')\n",
    "else:\n",
    "    print('Strong evidence that variables are associated, thus we will fail to reject our null hypothesis')\n"
   ]
  },
  {
   "cell_type": "markdown",
   "metadata": {},
   "source": [
    "As seen above, our p value is lower than .05, which means that there is significant evidence to claim that gender and voting frequency are not independent variables, and that they are associated. We were not surprised by this finding, but wonder why this might be. Was one gender more encouraged to vote this year? Were certain aspects of the election more important to one gender? We understand that association does not indicate causation, though we were curious to think about why this association might be. "
   ]
  },
  {
   "cell_type": "markdown",
   "metadata": {},
   "source": [
    "Below we used chi squared model to determine if there were an association with race and voting categories-- 'always' (meaning they always vote in national elections (voted in all or all but one) and 'rarely/never' (meaning they have voted in just one or no national elections). "
   ]
  },
  {
   "cell_type": "code",
   "execution_count": 132,
   "metadata": {},
   "outputs": [
    {
     "name": "stdout",
     "output_type": "stream",
     "text": [
      "significance=0.0500, p=0.0441\n",
      "Strong evidence that variables are associated, thus we will reject our null hypothesis\n"
     ]
    },
    {
     "data": {
      "text/plain": [
       "[[1269, 1579, 862], [288, 420, 224], [86, 174, 121], [168, 401, 244]]"
      ]
     },
     "execution_count": 132,
     "metadata": {},
     "output_type": "execute_result"
    }
   ],
   "source": [
    "from scipy import stats\n",
    "from sciBelow we used chi squared model to determine if there were an association with race and voting categories-- 'always' (meaning they always vote in national elections (voted in all or all but one) and 'rarely/never' (meaning they have voted in just one or no national elections). py.stats import chi2_contingency\n",
    "stat, p, dof, expected = chi2_contingency(table)\n",
    "alpha = 0.05\n",
    "print('significance=%.4f, p=%.4f' % (alpha, p))\n",
    "if p <= alpha:\n",
    "    print('Strong evidence that variables are associated, thus we will reject our null hypothesis')\n",
    "else:\n",
    "    print('Strong evidence that variables are associated, thus we will fail to reject our null hypothesis')\n",
    "white_always = len(data.loc[(data[\"race\"] == \"White\") & (data[\"voter_category\"] == \"always\")])\n",
    "white_sporadic = len(data.loc[(data[\"race\"] == \"White\") & (data[\"voter_category\"] == \"sporadic\")])\n",
    "white_rarely = len(data.loc[(data[\"race\"] == \"White\") & (data[\"voter_category\"] == \"rarely/never\")])\n",
    "\n",
    "black_always = len(data.loc[(data[\"race\"] == \"Black\") & (data[\"voter_category\"] == \"always\")])\n",
    "black_sporadic = len(data.loc[(data[\"race\"] == \"Black\") & (data[\"voter_category\"] == \"sporadic\")])\n",
    "black_rarely = len(data.loc[(data[\"race\"] == \"Black\") & (data[\"voter_category\"] == \"rarely/never\")])\n",
    "\n",
    "other_always = len(data.loc[(data[\"race\"] == \"Other/Mixed\") & (data[\"voter_category\"] == \"always\")])\n",
    "other_sporadic = len(data.loc[(data[\"race\"] == \"Other/Mixed\") & (data[\"voter_category\"] == \"sporadic\")])\n",
    "other_rarely = len(data.loc[(data[\"race\"] == \"Other/Mixed\") & (data[\"voter_category\"] == \"rarely/never\")])\n",
    "\n",
    "hisp_always = len(data.loc[(data[\"race\"] == \"Hispanic\") & (data[\"voter_category\"] == \"always\")])\n",
    "hisp_sporadic = len(data.loc[(data[\"race\"] == \"Hispanic\") & (data[\"voter_category\"] == \"sporadic\")])\n",
    "hisp_rarely = len(data.loc[(data[\"race\"] == \"Hispanic\") & (data[\"voter_category\"] == \"rarely/never\")])\n",
    "\n",
    "table = [[white_always, white_sporadic, white_rarely], [black_always, black_sporadic, black_rarely],\n",
    "         [other_always, other_sporadic, other_rarely], [hisp_always, hisp_sporadic, hisp_rarely]]\n",
    "\n",
    "table"
   ]
  },
  {
   "cell_type": "markdown",
   "metadata": {},
   "source": [
    "above, we created a contingency table as the following with the counts from our dataset of how each racial category votes: \n",
    "\n",
    "\n",
    "&nbsp;&nbsp;&nbsp;&nbsp;&nbsp;&nbsp;&nbsp;&nbsp;&nbsp;&nbsp; always votes&nbsp;&nbsp;&nbsp;&nbsp;sporadically votes&nbsp;&nbsp;&nbsp;&nbsp;rarely/never votes \n",
    "\n",
    "white &nbsp;&nbsp;&nbsp;&nbsp;&nbsp;&nbsp; 1269&nbsp;&nbsp;&nbsp;&nbsp;&nbsp;&nbsp; &nbsp;&nbsp;&nbsp;&nbsp;&nbsp;&nbsp;&nbsp;&nbsp;&nbsp;&nbsp;&nbsp;&nbsp; 1579&nbsp;&nbsp;&nbsp;&nbsp;&nbsp;&nbsp;&nbsp;&nbsp;&nbsp;&nbsp;&nbsp;&nbsp;&nbsp;&nbsp;&nbsp;&nbsp;&nbsp;&nbsp;&nbsp;&nbsp;&nbsp;&nbsp;&nbsp;&nbsp;&nbsp;&nbsp;&nbsp;&nbsp; 862  \n",
    "\n",
    "black &nbsp;&nbsp;&nbsp;&nbsp;&nbsp;&nbsp;&nbsp;&nbsp;&nbsp;&nbsp; 288&nbsp;&nbsp;&nbsp;&nbsp;&nbsp;&nbsp; &nbsp;&nbsp;&nbsp;&nbsp;&nbsp;&nbsp;&nbsp;&nbsp;&nbsp;&nbsp;&nbsp;&nbsp;&nbsp;420&nbsp;&nbsp;&nbsp;&nbsp;&nbsp;&nbsp;&nbsp;&nbsp;&nbsp;&nbsp;&nbsp;&nbsp;&nbsp;&nbsp;&nbsp;&nbsp;&nbsp;&nbsp;&nbsp;&nbsp;&nbsp;&nbsp;&nbsp;&nbsp;&nbsp;&nbsp;&nbsp;224\n",
    "\n",
    "other/mixed &nbsp;&nbsp;&nbsp; 86&nbsp;&nbsp;&nbsp;&nbsp;&nbsp;&nbsp; &nbsp;&nbsp;&nbsp;&nbsp;&nbsp;&nbsp;&nbsp;&nbsp;&nbsp;&nbsp;&nbsp;&nbsp;&nbsp;174&nbsp;&nbsp;&nbsp;&nbsp;&nbsp;&nbsp;&nbsp;&nbsp;&nbsp;&nbsp;&nbsp;&nbsp;&nbsp;&nbsp;&nbsp;&nbsp;&nbsp;&nbsp;&nbsp;&nbsp;&nbsp;&nbsp;&nbsp;&nbsp;&nbsp;&nbsp;&nbsp;121  \n",
    "\n",
    "hispanic &nbsp;&nbsp;&nbsp;&nbsp;&nbsp;&nbsp;&nbsp;&nbsp;&nbsp;&nbsp; 168&nbsp;&nbsp;&nbsp;&nbsp;&nbsp;&nbsp; &nbsp;&nbsp;&nbsp;&nbsp;&nbsp;&nbsp;&nbsp;&nbsp;&nbsp;&nbsp;&nbsp;&nbsp;&nbsp;401&nbsp;&nbsp;&nbsp;&nbsp;&nbsp;&nbsp;&nbsp;&nbsp;&nbsp;&nbsp;&nbsp;&nbsp;&nbsp;&nbsp;&nbsp;&nbsp;&nbsp;&nbsp;&nbsp;&nbsp;&nbsp;&nbsp;&nbsp;&nbsp;&nbsp;&nbsp;&nbsp;244  \n",
    "\n",
    "Null hypothesis: Race and frequency of voting are independent (or there is no association\\\n",
    "Alternative hypothesis: Race and frequency of voting are not independent (or they are associated)"
   ]
  },
  {
   "cell_type": "code",
   "execution_count": 135,
   "metadata": {},
   "outputs": [
    {
     "name": "stdout",
     "output_type": "stream",
     "text": [
      "alpha=0.0500, p-value=0.00000000000002\n",
      "Strong evidence that variables are associated, thus we will reject our null hypothesis\n"
     ]
    }
   ],
   "source": [
    "stat, p, dof, expected = chi2_contingency(table)\n",
    "alpha = 0.05\n",
    "print('alpha=%.4f, p-value=%.14f' % (alpha, p))\n",
    "if p <= alpha:\n",
    "    print('Strong evidence that variables are associated, thus we will reject our null hypothesis')\n",
    "else:\n",
    "    print('Strong evidence that variables are associated, thus we will fail to reject our null hypothesis')"
   ]
  },
  {
   "cell_type": "markdown",
   "metadata": {},
   "source": [
    "As seen above, our p value is lower than .05, which means that there is significant evidence to claim that race and voting frequency are not independent variables, and that they are associated. We were surprised to see how low this p value was. It makes a lot of sense given racial disparities we see in the USA, and how low this p-value was may be emphasizing that there is a problem. We also are fully aware that with this singular test, we are not able to prove causality, only association, though we guess that this association may be because of racial disparities."
   ]
  },
  {
   "cell_type": "code",
   "execution_count": null,
   "metadata": {},
   "outputs": [],
   "source": []
  }
 ],
 "metadata": {
  "kernelspec": {
   "display_name": "Python 3",
   "language": "python",
   "name": "python3"
  },
  "language_info": {
   "codemirror_mode": {
    "name": "ipython",
    "version": 3
   },
   "file_extension": ".py",
   "mimetype": "text/x-python",
   "name": "python",
   "nbconvert_exporter": "python",
   "pygments_lexer": "ipython3",
   "version": "3.7.4"
  }
 },
 "nbformat": 4,
 "nbformat_minor": 4
}
