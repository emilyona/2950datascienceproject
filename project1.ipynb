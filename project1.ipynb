{
 "cells": [
  {
   "cell_type": "code",
   "execution_count": 2,
   "metadata": {},
   "outputs": [],
   "source": [
    "import pandas as pd"
   ]
  },
  {
   "cell_type": "code",
   "execution_count": 26,
   "metadata": {},
   "outputs": [],
   "source": [
    "mexico = pd.read_csv(\"ILoveEmily.csv\")"
   ]
  },
  {
   "cell_type": "code",
   "execution_count": 4,
   "metadata": {},
   "outputs": [
    {
     "data": {
      "text/plain": [
       "Index(['Unnamed: 0', 'sector', 'id', 'panelyear', 'f_inc_siem_year', 'failure',\n",
       "       'Totalpopulation', 'SpeaksIndigenouslanguage',\n",
       "       'SpeaksIndigenouslanguageSpan', 'SpeaksIndigenouslanguageNoS',\n",
       "       'Immigrantfromanotherstate', 'Immigrantfromanothercountry',\n",
       "       'Noschooling', 'Primaryeducation', 'Secundaryeducation', 'Highschool',\n",
       "       'Undergradandgradschool', 'Totaleconomicallyactivepopulat',\n",
       "       'Totalemployed', 'Noincome', 'Lessthan1minwage', 'to2minwage',\n",
       "       'to5minwages', 'morethan5minwages', 'AgriSector', 'MiningSector',\n",
       "       'Construction', 'CommerceSector', 'CommTransports', 'ServicesSector',\n",
       "       'politicalkilling', 'homicides', 'corruption', 'state', 'FDI',\n",
       "       'Total_crime', 'Violent_crimes_total', 'homicidespc', 'Total_crimepc',\n",
       "       'Unemploymentrate', 'Violent_crimes_totalpc'],\n",
       "      dtype='object')"
      ]
     },
     "execution_count": 4,
     "metadata": {},
     "output_type": "execute_result"
    }
   ],
   "source": [
    "mexico.columns\n"
   ]
  },
  {
   "cell_type": "code",
   "execution_count": 6,
   "metadata": {},
   "outputs": [],
   "source": [
    "import matplotlib.pyplot as plt"
   ]
  },
  {
   "cell_type": "code",
   "execution_count": 14,
   "metadata": {},
   "outputs": [
    {
     "name": "stderr",
     "output_type": "stream",
     "text": [
      "/opt/anaconda3/lib/python3.7/site-packages/numpy/lib/histograms.py:829: RuntimeWarning: invalid value encountered in greater_equal\n",
      "  keep = (tmp_a >= first_edge)\n",
      "/opt/anaconda3/lib/python3.7/site-packages/numpy/lib/histograms.py:830: RuntimeWarning: invalid value encountered in less_equal\n",
      "  keep &= (tmp_a <= last_edge)\n"
     ]
    },
    {
     "data": {
      "text/plain": [
       "(array([453969., 444851., 416968., 463009., 436940., 472484., 452796.,\n",
       "        459026., 445583., 437556.]),\n",
       " array([1.0000000e+00, 2.5927380e+05, 5.1854660e+05, 7.7781940e+05,\n",
       "        1.0370922e+06, 1.2963650e+06, 1.5556378e+06, 1.8149106e+06,\n",
       "        2.0741834e+06, 2.3334562e+06, 2.5927290e+06]),\n",
       " <a list of 10 Patch objects>)"
      ]
     },
     "execution_count": 14,
     "metadata": {},
     "output_type": "execute_result"
    },
    {
     "data": {
      "image/png": "[encoded data removed]",
      "text/plain": [
       "<Figure size 432x288 with 1 Axes>"
      ]
     },
     "metadata": {
      "needs_background": "light"
     },
     "output_type": "display_data"
    }
   ],
   "source": [
    "plt.hist(mexico['id'])"
   ]
  },
  {
   "cell_type": "code",
   "execution_count": 13,
   "metadata": {
    "scrolled": true
   },
   "outputs": [
    {
     "data": {
      "text/plain": [
       "0          1.0\n",
       "1          2.0\n",
       "2          3.0\n",
       "3          3.0\n",
       "4          4.0\n",
       "          ... \n",
       "5040542    NaN\n",
       "5040543    NaN\n",
       "5040544    NaN\n",
       "5040545    NaN\n",
       "5040546    NaN\n",
       "Name: id, Length: 5040547, dtype: float64"
      ]
     },
     "execution_count": 13,
     "metadata": {},
     "output_type": "execute_result"
    }
   ],
   "source": [
    "mexico['id']"
   ]
  },
  {
   "cell_type": "code",
   "execution_count": 27,
   "metadata": {},
   "outputs": [],
   "source": [
    "mexico = mexico.drop(columns = ['Unnamed: 0'])"
   ]
  },
  {
   "cell_type": "code",
   "execution_count": 28,
   "metadata": {},
   "outputs": [
    {
     "data": {
      "text/html": [
       "<div>\n",
       "<style scoped>\n",
       "    .dataframe tbody tr th:only-of-type {\n",
       "        vertical-align: middle;\n",
       "    }\n",
       "\n",
       "    .dataframe tbody tr th {\n",
       "        vertical-align: top;\n",
       "    }\n",
       "\n",
       "    .dataframe thead th {\n",
       "        text-align: right;\n",
       "    }\n",
       "</style>\n",
       "<table border=\"1\" class=\"dataframe\">\n",
       "  <thead>\n",
       "    <tr style=\"text-align: right;\">\n",
       "      <th></th>\n",
       "      <th>sector</th>\n",
       "      <th>id</th>\n",
       "      <th>panelyear</th>\n",
       "      <th>f_inc_siem_year</th>\n",
       "      <th>failure</th>\n",
       "      <th>Totalpopulation</th>\n",
       "      <th>SpeaksIndigenouslanguage</th>\n",
       "      <th>SpeaksIndigenouslanguageSpan</th>\n",
       "      <th>SpeaksIndigenouslanguageNoS</th>\n",
       "      <th>Immigrantfromanotherstate</th>\n",
       "      <th>...</th>\n",
       "      <th>homicides</th>\n",
       "      <th>corruption</th>\n",
       "      <th>state</th>\n",
       "      <th>FDI</th>\n",
       "      <th>Total_crime</th>\n",
       "      <th>Violent_crimes_total</th>\n",
       "      <th>homicidespc</th>\n",
       "      <th>Total_crimepc</th>\n",
       "      <th>Unemploymentrate</th>\n",
       "      <th>Violent_crimes_totalpc</th>\n",
       "    </tr>\n",
       "  </thead>\n",
       "  <tbody>\n",
       "    <tr>\n",
       "      <td>0</td>\n",
       "      <td>NaN</td>\n",
       "      <td>1.0</td>\n",
       "      <td>2008</td>\n",
       "      <td>2008.0</td>\n",
       "      <td>1</td>\n",
       "      <td>527637.8</td>\n",
       "      <td>6694.8</td>\n",
       "      <td>5954.4</td>\n",
       "      <td>27.2</td>\n",
       "      <td>14630.4</td>\n",
       "      <td>...</td>\n",
       "      <td>79.0</td>\n",
       "      <td>85.566668</td>\n",
       "      <td>Distrito Federal</td>\n",
       "      <td>13275.001032</td>\n",
       "      <td>172721.0</td>\n",
       "      <td>48470.0</td>\n",
       "      <td>0.000150</td>\n",
       "      <td>0.327348</td>\n",
       "      <td>0.038066</td>\n",
       "      <td>0.091862</td>\n",
       "    </tr>\n",
       "    <tr>\n",
       "      <td>1</td>\n",
       "      <td>COMERCIO AL POR MENOR</td>\n",
       "      <td>2.0</td>\n",
       "      <td>2010</td>\n",
       "      <td>2009.0</td>\n",
       "      <td>1</td>\n",
       "      <td>620416.0</td>\n",
       "      <td>5559.0</td>\n",
       "      <td>4705.0</td>\n",
       "      <td>12.0</td>\n",
       "      <td>8502.0</td>\n",
       "      <td>...</td>\n",
       "      <td>56.0</td>\n",
       "      <td>82.099998</td>\n",
       "      <td>Distrito Federal</td>\n",
       "      <td>7537.817773</td>\n",
       "      <td>195530.0</td>\n",
       "      <td>48695.0</td>\n",
       "      <td>0.000090</td>\n",
       "      <td>0.315159</td>\n",
       "      <td>0.052158</td>\n",
       "      <td>0.078488</td>\n",
       "    </tr>\n",
       "    <tr>\n",
       "      <td>2</td>\n",
       "      <td>NaN</td>\n",
       "      <td>3.0</td>\n",
       "      <td>2008</td>\n",
       "      <td>2008.0</td>\n",
       "      <td>0</td>\n",
       "      <td>625894.8</td>\n",
       "      <td>45359.6</td>\n",
       "      <td>43627.8</td>\n",
       "      <td>103.8</td>\n",
       "      <td>55237.8</td>\n",
       "      <td>...</td>\n",
       "      <td>95.0</td>\n",
       "      <td>94.166664</td>\n",
       "      <td>Quintana Roo</td>\n",
       "      <td>154.247371</td>\n",
       "      <td>34709.0</td>\n",
       "      <td>2185.0</td>\n",
       "      <td>0.000152</td>\n",
       "      <td>0.055455</td>\n",
       "      <td>0.032546</td>\n",
       "      <td>0.003491</td>\n",
       "    </tr>\n",
       "    <tr>\n",
       "      <td>3</td>\n",
       "      <td>OTROS SERVICIOS EXCEPTO ACTIVIDADES DE GOBIERNO</td>\n",
       "      <td>3.0</td>\n",
       "      <td>2010</td>\n",
       "      <td>2008.0</td>\n",
       "      <td>1</td>\n",
       "      <td>661176.0</td>\n",
       "      <td>41642.0</td>\n",
       "      <td>39405.0</td>\n",
       "      <td>65.0</td>\n",
       "      <td>50827.0</td>\n",
       "      <td>...</td>\n",
       "      <td>97.0</td>\n",
       "      <td>94.099998</td>\n",
       "      <td>Quintana Roo</td>\n",
       "      <td>61.263203</td>\n",
       "      <td>34965.0</td>\n",
       "      <td>2713.0</td>\n",
       "      <td>0.000147</td>\n",
       "      <td>0.052883</td>\n",
       "      <td>0.035710</td>\n",
       "      <td>0.004103</td>\n",
       "    </tr>\n",
       "    <tr>\n",
       "      <td>4</td>\n",
       "      <td>NaN</td>\n",
       "      <td>4.0</td>\n",
       "      <td>2008</td>\n",
       "      <td>2008.0</td>\n",
       "      <td>0</td>\n",
       "      <td>625894.8</td>\n",
       "      <td>45359.6</td>\n",
       "      <td>43627.8</td>\n",
       "      <td>103.8</td>\n",
       "      <td>55237.8</td>\n",
       "      <td>...</td>\n",
       "      <td>95.0</td>\n",
       "      <td>94.166664</td>\n",
       "      <td>Quintana Roo</td>\n",
       "      <td>154.247371</td>\n",
       "      <td>34709.0</td>\n",
       "      <td>2185.0</td>\n",
       "      <td>0.000152</td>\n",
       "      <td>0.055455</td>\n",
       "      <td>0.032546</td>\n",
       "      <td>0.003491</td>\n",
       "    </tr>\n",
       "  </tbody>\n",
       "</table>\n",
       "<p>5 rows × 40 columns</p>\n",
       "</div>"
      ],
      "text/plain": [
       "                                            sector   id  panelyear  \\\n",
       "0                                              NaN  1.0       2008   \n",
       "1                            COMERCIO AL POR MENOR  2.0       2010   \n",
       "2                                              NaN  3.0       2008   \n",
       "3  OTROS SERVICIOS EXCEPTO ACTIVIDADES DE GOBIERNO  3.0       2010   \n",
       "4                                              NaN  4.0       2008   \n",
       "\n",
       "   f_inc_siem_year  failure  Totalpopulation  SpeaksIndigenouslanguage  \\\n",
       "0           2008.0        1         527637.8                    6694.8   \n",
       "1           2009.0        1         620416.0                    5559.0   \n",
       "2           2008.0        0         625894.8                   45359.6   \n",
       "3           2008.0        1         661176.0                   41642.0   \n",
       "4           2008.0        0         625894.8                   45359.6   \n",
       "\n",
       "   SpeaksIndigenouslanguageSpan  SpeaksIndigenouslanguageNoS  \\\n",
       "0                        5954.4                         27.2   \n",
       "1                        4705.0                         12.0   \n",
       "2                       43627.8                        103.8   \n",
       "3                       39405.0                         65.0   \n",
       "4                       43627.8                        103.8   \n",
       "\n",
       "   Immigrantfromanotherstate  ...  homicides  corruption             state  \\\n",
       "0                    14630.4  ...       79.0   85.566668  Distrito Federal   \n",
       "1                     8502.0  ...       56.0   82.099998  Distrito Federal   \n",
       "2                    55237.8  ...       95.0   94.166664      Quintana Roo   \n",
       "3                    50827.0  ...       97.0   94.099998      Quintana Roo   \n",
       "4                    55237.8  ...       95.0   94.166664      Quintana Roo   \n",
       "\n",
       "            FDI  Total_crime  Violent_crimes_total  homicidespc  \\\n",
       "0  13275.001032     172721.0               48470.0     0.000150   \n",
       "1   7537.817773     195530.0               48695.0     0.000090   \n",
       "2    154.247371      34709.0                2185.0     0.000152   \n",
       "3     61.263203      34965.0                2713.0     0.000147   \n",
       "4    154.247371      34709.0                2185.0     0.000152   \n",
       "\n",
       "   Total_crimepc  Unemploymentrate  Violent_crimes_totalpc  \n",
       "0       0.327348          0.038066                0.091862  \n",
       "1       0.315159          0.052158                0.078488  \n",
       "2       0.055455          0.032546                0.003491  \n",
       "3       0.052883          0.035710                0.004103  \n",
       "4       0.055455          0.032546                0.003491  \n",
       "\n",
       "[5 rows x 40 columns]"
      ]
     },
     "execution_count": 28,
     "metadata": {},
     "output_type": "execute_result"
    }
   ],
   "source": [
    "mexico.head()"
   ]
  }
 ],
 "metadata": {
  "kernelspec": {
   "display_name": "Python 3",
   "language": "python",
   "name": "python3"
  },
  "language_info": {
   "codemirror_mode": {
    "name": "ipython",
    "version": 3
   },
   "file_extension": ".py",
   "mimetype": "text/x-python",
   "name": "python",
   "nbconvert_exporter": "python",
   "pygments_lexer": "ipython3",
   "version": "3.7.4"
  }
 },
 "nbformat": 4,
 "nbformat_minor": 2
}
