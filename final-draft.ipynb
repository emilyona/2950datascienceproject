{
 "cells": [
  {
   "cell_type": "markdown",
   "metadata": {},
   "source": [
    "# Introduction"
   ]
  },
  {
   "cell_type": "markdown",
   "metadata": {},
   "source": [
    "In November 2020, the United States of America elected a new President (which we now know is Joe Biden). During this election, anyone in the United States will attest that there has been much division with each side not understanding each other. Many of us truely felt that the results would impact the next 4 years of our lives. The 2020 Presidential election had the hgihest voter turnout (66.2%) in over a century (Washington Post). But, with only two-thirds of voting eligible population actually voting, just being eligible to vote isn't enough. Throughtout the past months it has been stressed in the news, on social media, and throughout or social networks the importance of voting. Not only is voter turnout a measure of civic participation, but many people believe that if voter turnout were to increase, election results could be significantly different. \n",
    "\n",
    "**Key Terms:**\n",
    "\n",
    "**Voter Turnout** represents the percentage of eligible voters who did vote.\n",
    "\n",
    "**Frequency of Voting** represents how often an individual votes in Presidential elections. In this project, voting frequency is divided up into 3 categories\n",
    "- **always** voting is defined as voting in all (or all but one) of the presidential and midterm elections since the individual has been eligible to vote.\n",
    "- **Sporatic** voters were defined as those who voted in at least 2 presidential and midterm elections\n",
    "- **rarely/never** voters were defined as those who never voted, or voted in one election.\n",
    "\n",
    "Data soucres: https://github.com/fivethirtyeight/data/tree/master/non-voters (more information about our data source can be found below in Data Description section)\n",
    "\n",
    "<b>Real World Implications: </b>\n",
    "\n",
    "In addition to being a measure of civic participation and the health of our electoral process, many people believe that voter turnout has a significant impact on election results. The 2020 presidential election marked the highest voter turnout in US history, and Biden captured more votes than any other candidate has ever recorded (Washington Post). Just four years ago in the the 2016 election, the voting demographics were very differnt. One of Biden's goals for this election was to improve upon Hillary Clinton's performance and caputre more young voters, more moderates, and more suburban voters among other demographics. \n",
    "\n",
    "This January two senate runoff elections will take place in Georgia. Republicans currently have 50 seats in the Senate and Democrats currently have 48. If Democrats win both Senate seats in Georgia, they would flip the Senate, and would be in contol of both the executive and legislative brances of the federal governmnet (Business Insider). After seeing how voter turnout had a huge impact on Joe Biden's 2020 campaign compared to Hillary Clinton's 2020 campaign, we know that voter turnout has signifcant impacts in election outcomes. It is very important for both parties to understand voter turnout and mobilize and increase their voters, espically with such an importnat runoff election coming up.\n",
    "\n",
    "Increasing voter turnout and understanding who is voting and why eligible people aren't voting is really important in ensure a healthy democracy and the values and ideals of the people are represented in our government. "
   ]
  },
  {
   "cell_type": "markdown",
   "metadata": {},
   "source": [
    "#### Research Questions:\n",
    "1. Who is voitng? Is there a demographic group that votes more frequently than others? Is race/gender/education associated with voting frequency?\n",
    "2. What factors impact how frequently an individual votes? \n",
    "\n",
    "We found that while gender is associated with frequency of voting, race may be even more strongly associated with how frequently an individual votes. \n",
    "\n",
    "We also found that we were able to predict an individuals frequency of voting with approximately 80% accuracy. In order to predict frequency of voting, we used data such as race, gender, age, employment status, if they reported having a chronic illness, if they reported having a disability, etc. "
   ]
  },
  {
   "cell_type": "markdown",
   "metadata": {},
   "source": [
    "# Data Description"
   ]
  },
  {
   "cell_type": "markdown",
   "metadata": {},
   "source": [
    "<b> What are the observations (rows) and the attributes (columns) </b>\n",
    "\n",
    "Our project combines two data sources. The first data source is individuals verified voting history from a voter file company named Aristotle. The second data source is individuals responses to a public opinion poll doen by Ipsos for FiveThirtyEight. The final data set has rows being individuals (including both voters and non voters) and columns being those individuals demographic information (age, education, income, race, gender), their answers to the poll questions, as well as their voter cateogory (how often do they vote: always, sporadic, rarely/never).\n",
    "\n",
    "<b> Why was this dataset created </b>\n",
    "\n",
    "This dataset was created by fivethirtyeight in order to analyze why americans don't vote.\n",
    "\n",
    "<b> Who funded the creation of the dataset? </b>\n",
    "\n",
    "Ipsos for FiveThirtyEight\n",
    "\n",
    "<b> What processes might have influenced what data was observed and recorded and what was not? </b>\n",
    "\n",
    "Minorities (young people, african americans, hispanics... etc.) all are less likely to be sampled. The sampling scheme employed by FiveThrityEight used a sample of U.S. citizens that oversampled young, Black and Hispanic respondents, with 8,327 respondents, and was weighted according to general population benchmarks for U.S. citizens from the U.S. Census Bureau. The sample was then matched to a voter profile through the voter file company Aritotle. Since non-voters are more likely to not be matched to the voter file, respondants were included who did not match the voter file but described themselves as voting “rarely” or “never” in the survey, so as to avoid underrepresenting nonvoters.\n",
    "\n",
    "<b> What preprocessing was done, and how did the data come to be in the form that you are using? </b>\n",
    "\n",
    "Respondents who were only eligible to vote in three elctions or fewer were dropped. Voter category was defined and encoded as those who almost always vote as those who voted in all (or all but one) of the national elections (presidential and midterm) they were eligible to vote in since 2000; those who vote sometimes as those who voted in at least two elections, but fewer than all the elections they were eligible to vote in (or all but one); and those who rarely or never vote as those who voted in no elections, or just one.\n",
    "The data includes 5,239 respondents who were matched from the Aristotle voter file a (and therefore have a cerified voter history) as well as 597 responded who did not match the voter file and described themselves as voting \"rarely\" or \"never\", all of whom have been eligible for at least 4 elections. \n",
    "\n",
    "<b> If people are involved, were they aware of the data collection and if so, what purpose did they expect the data to be used for? </b>\n",
    "\n",
    "Yes they were aware. Poll was conducted by Ipsos for FiveThrityEight and respondent knew that data was to be used for FiveThrityEight's opinion poll analysis blog\n",
    "\n",
    "\n",
    "<b> Where can your raw source data be found, if applicable? Provide a link to the raw data (hosted in a Cornell Google Drive or Cornell Box). </b>\n",
    "\n",
    "https://github.com/fivethirtyeight/data/tree/master/non-voters"
   ]
  },
  {
   "cell_type": "markdown",
   "metadata": {},
   "source": [
    "<b>Preregistration Statement </b>\n",
    "1. Classification model to classify voter category (always, rarely/never) -- (Planning to do a Logistic Regression model to determine if a voter is an always voter or a rarely/never voter category)\n",
    "2. Statistical analysis of demographic information in relation to voter cateogory. Specifically, we plan to perform hypothesis testing (chi squared) to see if key demographics (race, income, gender) are assocaied to voter category.\n"
   ]
  },
  {
   "cell_type": "code",
   "execution_count": 1,
   "metadata": {},
   "outputs": [],
   "source": [
    "#imports\n",
    "import pandas as pd\n",
    "import numpy as np\n",
    "import matplotlib.pyplot as plt\n",
    "import seaborn as sns"
   ]
  },
  {
   "cell_type": "code",
   "execution_count": 2,
   "metadata": {},
   "outputs": [],
   "source": [
    "data = pd.read_csv('nonvoters_data.csv')"
   ]
  },
  {
   "cell_type": "markdown",
   "metadata": {},
   "source": [
    "# Data Analysis"
   ]
  },
  {
   "cell_type": "code",
   "execution_count": 5,
   "metadata": {},
   "outputs": [
    {
     "data": {
      "image/png": "[encoded data removed]",
      "text/plain": [
       "<Figure size 432x288 with 1 Axes>"
      ]
     },
     "metadata": {
      "needs_background": "light"
     },
     "output_type": "display_data"
    }
   ],
   "source": [
    "binwidth = 10\n",
    "bin = np.arange(min(data['age']), max(data['age']) + binwidth, binwidth)\n",
    "plt.hist(data['age'], bins=bin-1)\n",
    "plt.xlabel(\"Age\")\n",
    "plt.ylabel(\"Count\")\n",
    "plt.show()"
   ]
  },
  {
   "cell_type": "markdown",
   "metadata": {},
   "source": [
    "The data is pretty uniformly distributed for ages 20-70, however there are a few indivuals in the study with age over 70. The majority of individuals are between 30 and 70 years old. "
   ]
  },
  {
   "cell_type": "code",
   "execution_count": 6,
   "metadata": {},
   "outputs": [
    {
     "data": {
      "text/plain": [
       "count    5836.000000\n",
       "mean       51.693797\n",
       "std        17.071561\n",
       "min        22.000000\n",
       "25%        36.000000\n",
       "50%        54.000000\n",
       "75%        65.000000\n",
       "max        94.000000\n",
       "Name: age, dtype: float64"
      ]
     },
     "execution_count": 6,
     "metadata": {},
     "output_type": "execute_result"
    }
   ],
   "source": [
    "data[\"age\"].describe()"
   ]
  },
  {
   "cell_type": "markdown",
   "metadata": {},
   "source": [
    "The mean individual's age is 51 years old and the standard deviation of age is 17.1. The middle 50% of the data is 36-65 years old."
   ]
  },
  {
   "cell_type": "code",
   "execution_count": 7,
   "metadata": {},
   "outputs": [
    {
     "data": {
      "text/plain": [
       "sporadic        2574\n",
       "always          1811\n",
       "rarely/never    1451\n",
       "Name: voter_category, dtype: int64"
      ]
     },
     "execution_count": 7,
     "metadata": {},
     "output_type": "execute_result"
    }
   ],
   "source": [
    "data['voter_category'].value_counts()"
   ]
  },
  {
   "cell_type": "code",
   "execution_count": 8,
   "metadata": {},
   "outputs": [
    {
     "data": {
      "image/png": "[encoded data removed]",
      "text/plain": [
       "<Figure size 432x288 with 1 Axes>"
      ]
     },
     "metadata": {
      "needs_background": "light"
     },
     "output_type": "display_data"
    }
   ],
   "source": [
    "plt.hist(data['voter_category'],bins=np.arange(4)-0.5, rwidth=0.3)\n",
    "plt.show()"
   ]
  },
  {
   "cell_type": "markdown",
   "metadata": {},
   "source": [
    "The voter category with the largest number of individuals is sporadic. Rarely/never has the least amount of indiviudals."
   ]
  },
  {
   "cell_type": "markdown",
   "metadata": {},
   "source": [
    "Looking the bar chart below we can see that many people who only vote sporadicly are registered to vote. By understaning who these individauls are will help politicians mobilize voters and increase voter turnout."
   ]
  },
  {
   "cell_type": "code",
   "execution_count": 9,
   "metadata": {},
   "outputs": [
    {
     "data": {
      "image/png": "[encoded data removed]",
      "text/plain": [
       "<Figure size 432x288 with 1 Axes>"
      ]
     },
     "metadata": {
      "needs_background": "light"
     },
     "output_type": "display_data"
    }
   ],
   "source": [
    "sub1 = data[['Q20', 'voter_category']]\n",
    "sub = sub1[sub1['Q20'] == 1]\n",
    "\n",
    "x = sub.voter_category.unique()\n",
    "dict = {}\n",
    "for category in sub.voter_category.unique():\n",
    "    categorydf = sub[sub['voter_category'] == category]\n",
    "    count = len(categorydf)\n",
    "    subset = sub1[sub1['voter_category'] == category]\n",
    "    percent = count / len(subset)\n",
    "    dict[category] = percent\n",
    "\n",
    "y = dict.values()    \n",
    "plt.bar(x, y, color='blue')\n",
    "plt.xlabel(\"Voter Category\")\n",
    "plt.ylabel(\"%\")\n",
    "plt.title(\"Who is registered to vote?\")\n",
    "plt.show()"
   ]
  },
  {
   "cell_type": "markdown",
   "metadata": {},
   "source": [
    "The below graph refers to poll Q5: As far as making progress on the important issues facing the country, does it really matter who wins the 2020 presidential election, or will things be pretty much the same regardless of who is elected president?\n",
    "\n",
    "The graphs shows the percentage of respondants who think that their 2020 vote really matters. Those who always vote seem to believe that their vote matters more often than those who rarely or never vote. This type of information can be useful for politicans. By showing citizens that their votes matter and are a crucial component of our democracy, we can likely increase voter turnout and have elected officals that better represent our beleifs. "
   ]
  },
  {
   "cell_type": "code",
   "execution_count": 10,
   "metadata": {},
   "outputs": [
    {
     "data": {
      "image/png": "[encoded data removed]",
      "text/plain": [
       "<Figure size 432x288 with 1 Axes>"
      ]
     },
     "metadata": {
      "needs_background": "light"
     },
     "output_type": "display_data"
    }
   ],
   "source": [
    "sub1 = data[['Q5', 'voter_category']]\n",
    "sub = sub1[sub1['Q5'] == 1]\n",
    "\n",
    "x = sub.voter_category.unique()\n",
    "dict = {}\n",
    "for category in sub.voter_category.unique():\n",
    "    categorydf = sub[sub['voter_category'] == category]\n",
    "    count = len(categorydf)\n",
    "    subset = sub1[sub1['voter_category'] == category]\n",
    "    percent = count / len(subset)\n",
    "    dict[category] = percent\n",
    "\n",
    "y = dict.values()    \n",
    "plt.bar(x, y, color='blue')\n",
    "plt.xlabel(\"Voter Category\")\n",
    "plt.ylabel(\"%\")\n",
    "plt.title(\"Who thinks their 2020 vote matters?\")\n",
    "plt.show()"
   ]
  },
  {
   "cell_type": "markdown",
   "metadata": {},
   "source": [
    "The below graph refers to poll Q16: In general, how easy or difficult do you think it is to vote in national elections?\n",
    "- 1. Very easy\n",
    "- 2. Somewhat easy\n",
    "- 3. Somewhat difficult\n",
    "- 4. Very difficult <br>\n",
    "\n",
    "Looking at the results of the bar plot below, it is not suprising that people who always vote have the highest percentage of people who think voting is easy. Since people who rarely/neveer vote tend to more often that that voting is not easy, there might be changes that need to be made to education people on the voting process or simplify the process in order to encourage more people to vote.  "
   ]
  },
  {
   "cell_type": "code",
   "execution_count": 11,
   "metadata": {},
   "outputs": [
    {
     "data": {
      "image/png": "[encoded data removed]",
      "text/plain": [
       "<Figure size 432x288 with 1 Axes>"
      ]
     },
     "metadata": {
      "needs_background": "light"
     },
     "output_type": "display_data"
    }
   ],
   "source": [
    "sub1 = data[['Q16', 'voter_category']]\n",
    "sub = sub1[sub1['Q16'] != 3]\n",
    "sub = sub[sub['Q16'] != 4] #subset the data to only include people who answered easy or somewhat easy\n",
    "\n",
    "x = sub.voter_category.unique()\n",
    "dict = {}\n",
    "for category in sub.voter_category.unique():\n",
    "    categorydf = sub[sub['voter_category'] == category]\n",
    "    count = len(categorydf)\n",
    "    subset = sub1[sub1['voter_category'] == category]\n",
    "    percent = count / len(subset)\n",
    "    dict[category] = percent\n",
    "\n",
    "y = dict.values()    \n",
    "plt.bar(x, y, color='blue')\n",
    "plt.xlabel(\"Voter Category\")\n",
    "plt.ylabel(\"%\")\n",
    "plt.title(\"Who thinks voting is easy?\")\n",
    "plt.show()"
   ]
  },
  {
   "cell_type": "markdown",
   "metadata": {},
   "source": [
    "Even with all this being said, there are still large numbers of registered voters, who think voting is easy, and who think their vote matters that sill are not voting. So, this draws into question: why aren't people voting?\n",
    "\n",
    "The below graph refers to poll Q29: Thinking back to the last few national elections where you decided not to vote, which of the following were the most important reasons in your decision not to vote? Please choose all that apply.\n",
    "- 1. I didn’t like any of the candidates\n",
    "- 2. Because of where I live, my vote doesn’t matter\n",
    "- 3. No matter who wins, nothing will change for people like me\n",
    "- 4. Our system is too broken to be fixed by voting\n",
    " -5. I wanted to vote, but I didn’t have time, couldn’t get off work, something came up, or I\n",
    "forgot\n",
    "- 6. I’m not sure if I can vote\n",
    "- 7. Nobody talks about the issues that are important to me personally\n",
    "- 8. All the candidates are the same\n",
    "- 9. I don’t believe in voting\n",
    "- 10. Other [specify] [A]\n",
    "\n",
    "<br> \n",
    "One interesting thing we noticed when doing this EDA was that there were NA's in this question, even when subsetting for only the 'rarely/never' voters. This means that there is a disconnect between what people are answering in the polls about the amoutn they vote versus the metadata that fivethirtyeight has about the individuals voter category. <br>\n",
    "Also, looking at the bar graph we can see that q29_3 has the highest number. This question is people who said they did not vote because \"No matter who wins, nothing will change for people like me\"."
   ]
  },
  {
   "cell_type": "code",
   "execution_count": 12,
   "metadata": {},
   "outputs": [
    {
     "data": {
      "image/png": "[encoded data removed]",
      "text/plain": [
       "<Figure size 432x288 with 1 Axes>"
      ]
     },
     "metadata": {
      "needs_background": "light"
     },
     "output_type": "display_data"
    }
   ],
   "source": [
    "sub1 = data[['Q29_1', 'Q29_2', 'Q29_3', 'Q29_4', 'Q29_5', 'Q29_6', 'Q29_7', 'Q29_8', 'Q29_9', 'voter_category']]\n",
    "sub = sub1[sub1['voter_category']== 'rarely/never']\n",
    "\n",
    "x = ['Q29_1', 'Q29_2', 'Q29_3', 'Q29_4', 'Q29_5', 'Q29_6', 'Q29_7', 'Q29_8', 'Q29_9']\n",
    "dict = {}\n",
    "for q in x:\n",
    "    count = sum(sub1[q]== 1.0)\n",
    "    dict[q] = count\n",
    "\n",
    "y = dict.values()    \n",
    "plt.bar(x, y, color='blue')\n",
    "plt.xlabel(\"Reason for not voting\")\n",
    "plt.ylabel(\"Count\")\n",
    "plt.title(\"Why aren't people voting?\")\n",
    "plt.show()"
   ]
  },
  {
   "cell_type": "markdown",
   "metadata": {},
   "source": [
    "<b> Race and voter category </b>"
   ]
  },
  {
   "cell_type": "code",
   "execution_count": 13,
   "metadata": {},
   "outputs": [
    {
     "data": {
      "text/plain": [
       "White          3710\n",
       "Black           932\n",
       "Hispanic        813\n",
       "Other/Mixed     381\n",
       "Name: race, dtype: int64"
      ]
     },
     "execution_count": 13,
     "metadata": {},
     "output_type": "execute_result"
    }
   ],
   "source": [
    "data['race'].value_counts()"
   ]
  },
  {
   "cell_type": "code",
   "execution_count": 14,
   "metadata": {},
   "outputs": [
    {
     "data": {
      "image/png": "[encoded data removed]",
      "text/plain": [
       "<Figure size 432x288 with 1 Axes>"
      ]
     },
     "metadata": {
      "needs_background": "light"
     },
     "output_type": "display_data"
    }
   ],
   "source": [
    "plt.hist(data['race'],bins=np.arange(5)-0.5, rwidth=0.3)\n",
    "plt.show()"
   ]
  },
  {
   "cell_type": "markdown",
   "metadata": {},
   "source": [
    "The majority of individuals in the study were White compared to black, hispanic, and other/mixed. This intuitively makes sense since the majority of Americans are white (Wikipedia). But, since the races are not uniformly distributed, when analyzing the number of people in each voter categroy for each race, we must look at percentages. "
   ]
  },
  {
   "cell_type": "markdown",
   "metadata": {},
   "source": [
    "<b>Voter category and race: </b>\n",
    "Looking at the stacked bar chart below we ca see that the largest percentage of people who always vote is white people and minorities are less likely to vote regularly vote. "
   ]
  },
  {
   "cell_type": "code",
   "execution_count": 15,
   "metadata": {},
   "outputs": [
    {
     "data": {
      "image/png": "[encoded data removed]",
      "text/plain": [
       "<Figure size 720x504 with 1 Axes>"
      ]
     },
     "metadata": {
      "needs_background": "light"
     },
     "output_type": "display_data"
    }
   ],
   "source": [
    "# voter status by race\n",
    "sub = data[['race', 'voter_category']]\n",
    "sub.race.unique()\n",
    "dict = {}\n",
    "for category in sub.voter_category.unique():\n",
    "    vals = []\n",
    "    categorydf = sub[sub['voter_category'] == category]\n",
    "    for race in sub.race.unique():\n",
    "        racecat = categorydf[categorydf['race'] == race]\n",
    "        vals.append(len(racecat))\n",
    "    dict[category] = vals\n",
    "\n",
    "# stacked bar plot\n",
    "x = sub.race.unique()\n",
    "always = np.array(dict['always'])\n",
    "sporadic = np.array(dict['sporadic'])\n",
    "rarely = np.array(dict['rarely/never'])\n",
    "total = always+sporadic+rarely\n",
    "proportion_always = np.true_divide(always, total) * 100\n",
    "proportion_sporadic = np.true_divide(sporadic, total) * 100\n",
    "proportion_rarely = np.true_divide(rarely, total) * 100\n",
    "\n",
    "#add colors\n",
    "colors = ['#FF9999', '#00BFFF','#C1FFC1','#CAE1FF','#FFDEAD']\n",
    "# The position of the bars on the x-axis\n",
    "r = range(len(x))\n",
    "barWidth = 1\n",
    "#plot bars\n",
    "plt.figure(figsize = (10,7))\n",
    "ax1 = plt.bar(r, proportion_always, bottom = proportion_sporadic + proportion_rarely, color = colors[0], edgecolor = 'white', width = barWidth, label = 'Always')\n",
    "ax3 = plt.bar(r, proportion_sporadic, bottom = proportion_rarely, color = colors[1], edgecolor = 'white', width = barWidth, label = 'Sporadic')\n",
    "ax4 = plt.bar(r, proportion_rarely, color = colors[2], edgecolor = 'white', width=barWidth, label = 'Rarely/Never')\n",
    "plt.legend()\n",
    "plt.xticks(r, x, fontweight = 'bold')\n",
    "plt.xlabel(\"Race\")\n",
    "plt.ylabel(\"Voter Status (%)\")\n",
    "plt.title(\"Voter Category and Race\")\n",
    "plt.show()\n"
   ]
  },
  {
   "cell_type": "markdown",
   "metadata": {},
   "source": [
    "Since we can see in the bar chart above that white people have a larger percentage of always voter category, this draws into question whether race and voter category are significantly associated. \n",
    "Below we used chi squared test to determine if there were an association with race and voting categories-- 'always' (meaning they always vote in national elections (voted in all or all but one) and 'rarely/never' (meaning they have voted in just one or no national elections). "
   ]
  },
  {
   "cell_type": "code",
   "execution_count": 16,
   "metadata": {},
   "outputs": [],
   "source": [
    "from scipy import stats\n",
    "from scipy.stats import chi2_contingency\n",
    "\n",
    "white_always = len(data.loc[(data[\"race\"] == \"White\") & (data[\"voter_category\"] == \"always\")])\n",
    "white_sporadic = len(data.loc[(data[\"race\"] == \"White\") & (data[\"voter_category\"] == \"sporadic\")])\n",
    "white_rarely = len(data.loc[(data[\"race\"] == \"White\") & (data[\"voter_category\"] == \"rarely/never\")])\n",
    "\n",
    "black_always = len(data.loc[(data[\"race\"] == \"Black\") & (data[\"voter_category\"] == \"always\")])\n",
    "black_sporadic = len(data.loc[(data[\"race\"] == \"Black\") & (data[\"voter_category\"] == \"sporadic\")])\n",
    "black_rarely = len(data.loc[(data[\"race\"] == \"Black\") & (data[\"voter_category\"] == \"rarely/never\")])\n",
    "\n",
    "other_always = len(data.loc[(data[\"race\"] == \"Other/Mixed\") & (data[\"voter_category\"] == \"always\")])\n",
    "other_sporadic = len(data.loc[(data[\"race\"] == \"Other/Mixed\") & (data[\"voter_category\"] == \"sporadic\")])\n",
    "other_rarely = len(data.loc[(data[\"race\"] == \"Other/Mixed\") & (data[\"voter_category\"] == \"rarely/never\")])\n",
    "\n",
    "hisp_always = len(data.loc[(data[\"race\"] == \"Hispanic\") & (data[\"voter_category\"] == \"always\")])\n",
    "hisp_sporadic = len(data.loc[(data[\"race\"] == \"Hispanic\") & (data[\"voter_category\"] == \"sporadic\")])\n",
    "hisp_rarely = len(data.loc[(data[\"race\"] == \"Hispanic\") & (data[\"voter_category\"] == \"rarely/never\")])\n",
    "\n",
    "table = [[white_always, white_sporadic, white_rarely], [black_always, black_sporadic, black_rarely],\n",
    "         [other_always, other_sporadic, other_rarely], [hisp_always, hisp_sporadic, hisp_rarely]]\n"
   ]
  },
  {
   "cell_type": "markdown",
   "metadata": {},
   "source": [
    "Below, we created a contingency table as the following with the counts from our dataset of how each racial category votes: "
   ]
  },
  {
   "cell_type": "code",
   "execution_count": 36,
   "metadata": {},
   "outputs": [
    {
     "name": "stdout",
     "output_type": "stream",
     "text": [
      "voter_category  always  rarely/never  sporadic\n",
      "race                                          \n",
      "Black              288           224       420\n",
      "Hispanic           168           244       401\n",
      "Other/Mixed         86           121       174\n",
      "White             1269           862      1579\n"
     ]
    }
   ],
   "source": [
    "data_contingency = pd.crosstab(data['race'],  \n",
    "                            data['voter_category'], \n",
    "                                margins = False) \n",
    "print(data_contingency)"
   ]
  },
  {
   "cell_type": "markdown",
   "metadata": {},
   "source": [
    "Null hypothesis: Race and frequency of voting are independent (or there is no association) <br>\n",
    "Alternative hypothesis: Race and frequency of voting are not independent (or they are associated)"
   ]
  },
  {
   "cell_type": "code",
   "execution_count": 17,
   "metadata": {},
   "outputs": [
    {
     "name": "stdout",
     "output_type": "stream",
     "text": [
      "significance=0.0500, p=0.0000\n",
      "with a p-value of  1.803143513747144e-14\n",
      "There is strong evidence that variables are associated, thus we will reject our null hypothesis\n"
     ]
    }
   ],
   "source": [
    "stat, p, dof, expected = chi2_contingency(table)\n",
    "alpha = 0.05\n",
    "print('significance=%.4f, p=%.4f' % (alpha, p))\n",
    "if p <= alpha:\n",
    "    print(\"with a p-value of \", p)\n",
    "    print('There is strong evidence that variables are associated, thus we will reject our null hypothesis')\n",
    "else:\n",
    "    print('Strong evidence that variables are associated, thus we will fail to reject our null hypothesis')"
   ]
  },
  {
   "cell_type": "markdown",
   "metadata": {},
   "source": [
    "As seen above, our p value is lower than .05, which means that there is significant evidence to claim that race and voting frequency are not independent, and that they are associated. We were surprised to see how low this p value was. It makes a lot of sense given racial disparities we see in the USA, and how low this p-value was may be emphasizing that there is a problem. "
   ]
  },
  {
   "cell_type": "markdown",
   "metadata": {},
   "source": [
    "<b>Gender and voting: </b>\n",
    "\n",
    "Another important demographic we are interested in analyzing in relation to voter category is gender."
   ]
  },
  {
   "cell_type": "code",
   "execution_count": 18,
   "metadata": {},
   "outputs": [
    {
     "data": {
      "text/plain": [
       "Male      2940\n",
       "Female    2896\n",
       "Name: gender, dtype: int64"
      ]
     },
     "execution_count": 18,
     "metadata": {},
     "output_type": "execute_result"
    }
   ],
   "source": [
    "data['gender'].value_counts()"
   ]
  },
  {
   "cell_type": "code",
   "execution_count": 19,
   "metadata": {},
   "outputs": [
    {
     "data": {
      "image/png": "[encoded data removed]",
      "text/plain": [
       "<Figure size 432x288 with 1 Axes>"
      ]
     },
     "metadata": {
      "needs_background": "light"
     },
     "output_type": "display_data"
    }
   ],
   "source": [
    "plt.hist(data['gender'],bins=np.arange(3)-0.5, rwidth=0.3)\n",
    "plt.show()"
   ]
  },
  {
   "cell_type": "markdown",
   "metadata": {},
   "source": [
    "There are about equal numbers of male and females in this study. "
   ]
  },
  {
   "cell_type": "code",
   "execution_count": 20,
   "metadata": {},
   "outputs": [
    {
     "data": {
      "image/png": "[encoded data removed]",
      "text/plain": [
       "<Figure size 720x504 with 1 Axes>"
      ]
     },
     "metadata": {
      "needs_background": "light"
     },
     "output_type": "display_data"
    }
   ],
   "source": [
    "sub = data[['gender', 'voter_category']]\n",
    "dict = {}\n",
    "for category in sub.voter_category.unique():\n",
    "    vals = []\n",
    "    categorydf = sub[sub['voter_category'] == category]\n",
    "    for g in sub.gender.unique():\n",
    "        gcat = categorydf[categorydf['gender'] == g]\n",
    "        vals.append(len(gcat))\n",
    "    dict[category] = vals\n",
    "\n",
    "# stacked bar plot\n",
    "x = sub.gender.unique()\n",
    "always = np.array(dict['always'])\n",
    "sporadic = np.array(dict['sporadic'])\n",
    "rarely = np.array(dict['rarely/never'])\n",
    "total = always+sporadic+rarely\n",
    "proportion_always = np.true_divide(always, total) * 100\n",
    "proportion_sporadic = np.true_divide(sporadic, total) * 100\n",
    "proportion_rarely = np.true_divide(rarely, total) * 100\n",
    "\n",
    "#add colors\n",
    "colors = ['#FF9999', '#00BFFF','#C1FFC1','#CAE1FF','#FFDEAD']\n",
    "# The position of the bars on the x-axis\n",
    "r = range(len(x))\n",
    "barWidth = 1\n",
    "#plot bars\n",
    "plt.figure(figsize = (10,7))\n",
    "ax1 = plt.bar(r, proportion_always, bottom = proportion_sporadic + proportion_rarely, color = colors[0], edgecolor = 'white', width = barWidth, label = 'Always')\n",
    "ax3 = plt.bar(r, proportion_sporadic, bottom = proportion_rarely, color = colors[1], edgecolor = 'white', width = barWidth, label = 'Sporadic')\n",
    "ax4 = plt.bar(r, proportion_rarely, color = colors[2], edgecolor = 'white', width=barWidth, label = 'Rarely/Never')\n",
    "plt.legend()\n",
    "plt.xticks(r, x, fontweight = 'bold')\n",
    "plt.xlabel(\"Race\")\n",
    "plt.ylabel(\"Voter Status (%)\")\n",
    "plt.title(\"Voter Category and Gender\")\n",
    "plt.show()"
   ]
  },
  {
   "cell_type": "markdown",
   "metadata": {},
   "source": [
    "Looking at the bar chart above we can see that a larger percentage of females always vote compared to males and that a larger percentage of males rarely/never vote comapred to females.This draws into question whether gender and voter category are significantly associated. \n",
    "Below we used chi squared test to determine if there were an association with gender and voting categories-- 'always' (meaning they always vote in national elections (voted in all or all but one) and 'rarely/never' (meaning they have voted in just one or no national elections). "
   ]
  },
  {
   "cell_type": "code",
   "execution_count": 21,
   "metadata": {},
   "outputs": [],
   "source": [
    "female_always = len(data.loc[(data[\"gender\"] == \"Female\") & (data[\"voter_category\"] == \"always\")])\n",
    "female_sporadic = len(data.loc[(data[\"gender\"] == \"Female\") & (data[\"voter_category\"] == \"sporadic\")])\n",
    "female_rarely = len(data.loc[(data[\"gender\"] == \"Female\") & (data[\"voter_category\"] == \"rarely/never\")])\n",
    "male_always = len(data.loc[(data[\"gender\"] == \"Male\") & (data[\"voter_category\"] == \"always\")])\n",
    "male_sporadic = len(data.loc[(data[\"gender\"] == \"Male\") & (data[\"voter_category\"] == \"sporadic\")])\n",
    "male_rarely = len(data.loc[(data[\"gender\"] == \"Male\") & (data[\"voter_category\"] == \"rarely/never\")])\n",
    "\n",
    "table = [[female_always, female_sporadic, female_rarely], [male_always, male_sporadic, male_rarely]]"
   ]
  },
  {
   "cell_type": "markdown",
   "metadata": {},
   "source": [
    "below, we created a contingency table as the following with the counts from our dataset of how each gender votes:\n"
   ]
  },
  {
   "cell_type": "code",
   "execution_count": 35,
   "metadata": {},
   "outputs": [
    {
     "name": "stdout",
     "output_type": "stream",
     "text": [
      "voter_category  always  rarely/never  sporadic\n",
      "gender                                        \n",
      "Female             939           690      1267\n",
      "Male               872           761      1307\n"
     ]
    }
   ],
   "source": [
    "data_contingency = pd.crosstab(data['gender'],  \n",
    "                            data['voter_category'], \n",
    "                                margins = False) \n",
    "print(data_contingency) "
   ]
  },
  {
   "cell_type": "markdown",
   "metadata": {},
   "source": [
    "Null hypothesis: Gender and frequency of voting are independent (or there is no association)\\\n",
    "Alternative hypothesis: Gender and frequency of voting are not independent (or they are associated)"
   ]
  },
  {
   "cell_type": "code",
   "execution_count": 22,
   "metadata": {},
   "outputs": [
    {
     "name": "stdout",
     "output_type": "stream",
     "text": [
      "alpha=0.0500, p-value=0.0441\n",
      "With a p-value of  0.04408837629605826 there is strong evidence that variables are associated.\n",
      "Thus we will reject our null hypothesis\n"
     ]
    }
   ],
   "source": [
    "stat, p, dof, expected = chi2_contingency(table)\n",
    "alpha = 0.05\n",
    "print('alpha=%.4f, p-value=%.4f' % (alpha, p))\n",
    "if p <= alpha:\n",
    "    print(\"With a p-value of \", p, 'there is strong evidence that variables are associated.')\n",
    "    print(\"Thus we will reject our null hypothesis\")\n",
    "else:\n",
    "    print('Strong evidence that variables are associated, thus we will fail to reject our null hypothesis')\n"
   ]
  },
  {
   "cell_type": "markdown",
   "metadata": {},
   "source": [
    "As seen above, our p value is lower than .05, which means that there is significant evidence to claim that gender and voting frequency are not independent, and that they are associated. We were not surprised by this finding, but wonder why this might be. Is one gender more encouraged to vote? Are certain aspects of elections more important to one gender? Although it is not too supring, we were curious to think about why this association might be."
   ]
  },
  {
   "cell_type": "markdown",
   "metadata": {},
   "source": [
    "<b> Income and voting </b>"
   ]
  },
  {
   "cell_type": "code",
   "execution_count": 23,
   "metadata": {},
   "outputs": [
    {
     "data": {
      "text/plain": [
       "$75-125k          1628\n",
       "Less than $40k    1418\n",
       "$40-75k           1396\n",
       "$125k or more     1394\n",
       "Name: income, dtype: int64"
      ]
     },
     "execution_count": 23,
     "metadata": {},
     "output_type": "execute_result"
    }
   ],
   "source": [
    "data['income'].value_counts()"
   ]
  },
  {
   "cell_type": "code",
   "execution_count": 24,
   "metadata": {},
   "outputs": [
    {
     "data": {
      "image/png": "[encoded data removed]",
      "text/plain": [
       "<Figure size 432x288 with 1 Axes>"
      ]
     },
     "metadata": {
      "needs_background": "light"
     },
     "output_type": "display_data"
    }
   ],
   "source": [
    "plt.hist(data['income'],bins=np.arange(5)-0.5, rwidth=0.3)\n",
    "plt.show()"
   ]
  },
  {
   "cell_type": "code",
   "execution_count": 25,
   "metadata": {},
   "outputs": [
    {
     "data": {
      "image/png": "[encoded data removed]",
      "text/plain": [
       "<Figure size 720x504 with 1 Axes>"
      ]
     },
     "metadata": {
      "needs_background": "light"
     },
     "output_type": "display_data"
    }
   ],
   "source": [
    "# voter status by income\n",
    "sub = data[['income', 'voter_category']]\n",
    "dict = {}\n",
    "for category in sub.voter_category.unique():\n",
    "    vals = []\n",
    "    categorydf = sub[sub['voter_category'] == category]\n",
    "    for inc in sub.income.unique():\n",
    "        inccat = categorydf[categorydf['income'] == inc]\n",
    "        vals.append(len(inccat))\n",
    "    dict[category] = vals\n",
    "\n",
    "# stacked bar plot\n",
    "x = sub.income.unique()\n",
    "always = np.array(dict['always'])\n",
    "sporadic = np.array(dict['sporadic'])\n",
    "rarely = np.array(dict['rarely/never'])\n",
    "total = always+sporadic+rarely\n",
    "proportion_always = np.true_divide(always, total) * 100\n",
    "proportion_sporadic = np.true_divide(sporadic, total) * 100\n",
    "proportion_rarely = np.true_divide(rarely, total) * 100\n",
    "\n",
    "#add colors\n",
    "colors = ['#FF9999', '#00BFFF','#C1FFC1','#CAE1FF','#FFDEAD']\n",
    "# The position of the bars on the x-axis\n",
    "r = range(len(x))\n",
    "barWidth = 1\n",
    "#plot bars\n",
    "plt.figure(figsize = (10,7))\n",
    "ax1 = plt.bar(r, proportion_always, bottom = proportion_sporadic + proportion_rarely, color = colors[0], edgecolor = 'white', width = barWidth, label = 'Always')\n",
    "ax3 = plt.bar(r, proportion_sporadic, bottom = proportion_rarely, color = colors[1], edgecolor = 'white', width = barWidth, label = 'Sporadic')\n",
    "ax4 = plt.bar(r, proportion_rarely, color = colors[2], edgecolor = 'white', width=barWidth, label = 'Rarely/Never')\n",
    "plt.legend()\n",
    "plt.xticks(r, x, fontweight = 'bold')\n",
    "plt.xlabel(\"Income\")\n",
    "plt.ylabel(\"Voter Status (%)\")\n",
    "plt.title(\"Voter Category and Income\")\n",
    "plt.show()"
   ]
  },
  {
   "cell_type": "markdown",
   "metadata": {},
   "source": [
    "Looking at the bar chart above we can see that a larger percentage of individuals in a higher income category were of 'always' voter category comapred to the individuals in lower income categories. We can also see that individuals whose income is less than $40k had the highest percentage of being rarely/never voters. This draws into question whether these observaitons are statistically significant. That is, are income and voter category assocaited. \n",
    "\n",
    "Below we used chi squared test to determine if there were an association with income and voting categories-- 'always' (meaning they always vote in national elections (voted in all or all but one) and 'rarely/never' (meaning they have voted in just one or no national elections). "
   ]
  },
  {
   "cell_type": "code",
   "execution_count": 26,
   "metadata": {},
   "outputs": [
    {
     "data": {
      "text/plain": [
       "array(['$75-125k', '$125k or more', '$40-75k', 'Less than $40k'],\n",
       "      dtype=object)"
      ]
     },
     "execution_count": 26,
     "metadata": {},
     "output_type": "execute_result"
    }
   ],
   "source": [
    "data.income.unique()"
   ]
  },
  {
   "cell_type": "code",
   "execution_count": 27,
   "metadata": {},
   "outputs": [
    {
     "name": "stdout",
     "output_type": "stream",
     "text": [
      "[[573, 728, 327], [482, 666, 246], [433, 622, 341], [323, 558, 537]]\n"
     ]
    }
   ],
   "source": [
    "sev_always = len(data.loc[(data[\"income\"] == \"$75-125k\") & (data[\"voter_category\"] == \"always\")])\n",
    "sev_sporadic = len(data.loc[(data[\"income\"] == \"$75-125k\") & (data[\"voter_category\"] == \"sporadic\")])\n",
    "sev_rarely = len(data.loc[(data[\"income\"] == \"$75-125k\") & (data[\"voter_category\"] == \"rarely/never\")])\n",
    "\n",
    "more_always = len(data.loc[(data[\"income\"] == \"$125k or more\") & (data[\"voter_category\"] == \"always\")])\n",
    "more_sporadic = len(data.loc[(data[\"income\"] == \"$125k or more\") & (data[\"voter_category\"] == \"sporadic\")])\n",
    "more_rarely = len(data.loc[(data[\"income\"] == \"$125k or more\") & (data[\"voter_category\"] == \"rarely/never\")])\n",
    "\n",
    "foursev_always = len(data.loc[(data[\"income\"] == \"$40-75k\") & (data[\"voter_category\"] == \"always\")])\n",
    "foursev_sporadic = len(data.loc[(data[\"income\"] == \"$40-75k\") & (data[\"voter_category\"] == \"sporadic\")])\n",
    "foursev_rarely = len(data.loc[(data[\"income\"] == \"$40-75k\") & (data[\"voter_category\"] == \"rarely/never\")])\n",
    "\n",
    "less_always = len(data.loc[(data[\"income\"] == \"Less than $40k\") & (data[\"voter_category\"] == \"always\")])\n",
    "less_sporadic = len(data.loc[(data[\"income\"] == \"Less than $40k\") & (data[\"voter_category\"] == \"sporadic\")])\n",
    "less_rarely = len(data.loc[(data[\"income\"] == \"Less than $40k\") & (data[\"voter_category\"] == \"rarely/never\")])\n",
    "\n",
    "table = [[sev_always, sev_sporadic, sev_rarely], [more_always, more_sporadic, more_rarely],\n",
    "         [foursev_always, foursev_sporadic, foursev_rarely], [less_always, less_sporadic, less_rarely]]\n",
    "\n",
    "print(table)"
   ]
  },
  {
   "cell_type": "markdown",
   "metadata": {},
   "source": [
    "Above, we created a contingency table as the following with the counts from our dataset of how each gender votes:\n",
    "\n",
    "Null hypothesis: Race and frequency of voting are independent (or there is no association) <br>\n",
    "Alternative hypothesis: Race and frequency of voting are not independent (or they are associated)\n",
    "Null hypothesis: Gender and frequency of voting are independent (or there is no association)\\\n",
    "Alternative hypothesis: Gender and frequency of voting are not independent (or they are associated)"
   ]
  },
  {
   "cell_type": "code",
   "execution_count": 28,
   "metadata": {},
   "outputs": [
    {
     "name": "stdout",
     "output_type": "stream",
     "text": [
      "alpha=0.0500, p-value=0.0000\n",
      "With a p-value of  4.2914275283115804e-40 there is strong evidence that variables are associated.\n",
      "Thus we will reject our null hypothesis\n"
     ]
    }
   ],
   "source": [
    "stat, p, dof, expected = chi2_contingency(table)\n",
    "alpha = 0.05\n",
    "print('alpha=%.4f, p-value=%.4f' % (alpha, p))\n",
    "if p <= alpha:\n",
    "    print(\"With a p-value of \", p, 'there is strong evidence that variables are associated.')\n",
    "    print(\"Thus we will reject our null hypothesis\")\n",
    "else:\n",
    "    print('Strong evidence that variables are associated, thus we will fail to reject our null hypothesis')\n"
   ]
  },
  {
   "cell_type": "markdown",
   "metadata": {},
   "source": [
    "As seen above, our p value is lower than .05, which means that there is significant evidence to claim that income and voting frequency are not independent, and that they are associated. Based off of our graphs we are not suprised by this finding. It is typically thought that those with higher income voter at higher frequencies. This information can be useful for politicans. Knowing that individuals with lower income levels are associated with voting less frequently can be used to target and encourage low income individuals to vote and possibly help them though the voting process in order to increase voter turnout."
   ]
  },
  {
   "cell_type": "markdown",
   "metadata": {},
   "source": [
    "<b> How can we determine if someone will vote? </b>"
   ]
  },
  {
   "cell_type": "markdown",
   "metadata": {},
   "source": [
    "To predict voter category we decided to implement a logistic regression model. We separated voters into the categories 'always' (meaning they always vote in national elections (voted in all or all but one) and 'rarely/never' (meaning they have voted in just one or no national elections). We then fit a logistic regression model with predictors being the voter important demographic information we analyzed above (income, gender, race, education, unemployment status, illness status, diability status) as well as their answers to three poll questions. The first poll question asked if the voter thought that voting in elections was very important to being a good american. The second poll question asked if the voter thought the elected officals in their city/community had a significant impact on their life. The third poll question asked if the voter thinks a lot of changes are needed in the design and structure of American government. "
   ]
  },
  {
   "cell_type": "code",
   "execution_count": 29,
   "metadata": {},
   "outputs": [
    {
     "name": "stderr",
     "output_type": "stream",
     "text": [
      "/opt/anaconda3/lib/python3.8/site-packages/pandas/core/indexing.py:845: SettingWithCopyWarning: \n",
      "A value is trying to be set on a copy of a slice from a DataFrame.\n",
      "Try using .loc[row_indexer,col_indexer] = value instead\n",
      "\n",
      "See the caveats in the documentation: https://pandas.pydata.org/pandas-docs/stable/user_guide/indexing.html#returning-a-view-versus-a-copy\n",
      "  self.obj[key] = _infer_fill_value(value)\n",
      "/opt/anaconda3/lib/python3.8/site-packages/pandas/core/indexing.py:966: SettingWithCopyWarning: \n",
      "A value is trying to be set on a copy of a slice from a DataFrame.\n",
      "Try using .loc[row_indexer,col_indexer] = value instead\n",
      "\n",
      "See the caveats in the documentation: https://pandas.pydata.org/pandas-docs/stable/user_guide/indexing.html#returning-a-view-versus-a-copy\n",
      "  self.obj[item] = s\n"
     ]
    }
   ],
   "source": [
    "#Logistic Regression\n",
    "from sklearn.model_selection import train_test_split\n",
    "#subset data so we only have two classes\n",
    "subset = data.loc[data['voter_category'] != 'sporadic']\n",
    "\n",
    "# create dummy variables\n",
    "subset.loc[:, 'is_less40'] = pd.get_dummies(subset['income'])['Less than $40k']\n",
    "subset.loc[:, 'is_4075'] = pd.get_dummies(subset['income'])['$40-75k']\n",
    "subset.loc[:, 'is_125more'] = pd.get_dummies(subset['income'])['$125k or more']\n",
    "subset.loc[:, 'is_75125'] = pd.get_dummies(subset['income'])['$75-125k']\n",
    "subset.loc[:, 'is_female'] = pd.get_dummies(subset['gender'])['Female']\n",
    "subset.loc[:, 'is_white'] = pd.get_dummies(subset['race'])['White']\n",
    "subset.loc[:, 'is_black'] = pd.get_dummies(subset['race'])['Black']\n",
    "subset.loc[:, 'is_other'] = pd.get_dummies(subset['race'])['Other/Mixed']\n",
    "subset.loc[:, 'is_hispanic'] = pd.get_dummies(subset['race'])['Hispanic']\n",
    "subset.loc[:, 'is_college'] = pd.get_dummies(subset['education'])['College']\n",
    "subset.loc[:, 'is_somecollege'] = pd.get_dummies(subset['education'])['Some college']\n",
    "subset.loc[:, 'is_highschool'] = pd.get_dummies(subset['education'])['High school or less']\n",
    "subset.loc[:, 'is_unemployed'] = pd.get_dummies(subset['Q10_3'])[1]\n",
    "subset.loc[:, 'is_illness'] = pd.get_dummies(subset['Q10_2'])[1]\n",
    "subset.loc[:, 'is_disability'] = pd.get_dummies(subset['Q10_1'])[2]\n",
    "subset.loc[:, 'is_changes'] = pd.get_dummies(subset['Q7'])[1]\n",
    "subset.loc[:, 'is_important'] = pd.get_dummies(subset['Q2_1'])[1]\n",
    "subset.loc[:, 'is_elected'] = pd.get_dummies(subset['Q4_3'])[1]\n",
    "\n",
    "features = ['age', 'is_college', 'is_somecollege', 'is_highschool', 'is_white', 'is_black', 'is_other', 'is_hispanic', 'is_female', 'is_less40', 'is_4075', 'is_125more', 'is_75125', 'is_unemployed', 'is_illness', 'is_disability', 'is_changes', 'is_important', 'is_elected']\n",
    "X = subset[features]\n",
    "y = subset['voter_category']\n",
    "X_train, X_test, y_train, y_test = train_test_split(X, y, test_size=0.2, random_state=1714)"
   ]
  },
  {
   "cell_type": "code",
   "execution_count": 30,
   "metadata": {},
   "outputs": [
    {
     "name": "stdout",
     "output_type": "stream",
     "text": [
      "Test accuracy: 0.8024502297090352\n"
     ]
    }
   ],
   "source": [
    "from sklearn.linear_model import LogisticRegression\n",
    "logit = LogisticRegression(class_weight = 'balanced', max_iter = 1000).fit(X_train, y_train)\n",
    "y_pred = logit.predict(X_test)\n",
    "score = logit.score(X_test, y_test)\n",
    "\n",
    "print(\"Test accuracy:\", score)"
   ]
  },
  {
   "cell_type": "code",
   "execution_count": 31,
   "metadata": {},
   "outputs": [
    {
     "name": "stdout",
     "output_type": "stream",
     "text": [
      "Baseline accuracy:  0.5551808706315144\n"
     ]
    }
   ],
   "source": [
    "count = 0\n",
    "for i in subset['voter_category']:\n",
    "    if i == 'always':\n",
    "        count = count + 1\n",
    "        \n",
    "print(\"Baseline accuracy: \", count/3262)"
   ]
  },
  {
   "cell_type": "markdown",
   "metadata": {},
   "source": [
    "Our model had a prediction accuracy of 0.802. Baseline accuracy is 0.55. Our model predicts with aprox 80% accuracy voter category (always versus never) which is a large improvement from the baseline. Our 25% improvment in prediction accuracy shows how demographic information such as age, race, gender, income, and education as well as one's personal thoughs on voting impacts their voter category. By identifying indiviuals from demographics that are less likely to vote (young people, minorities, low income, etc.) politicians or campaigners can help increase voter turnout. This is really important for our democracy as Americans and can ensure that we have elected officals that represent the people. "
   ]
  },
  {
   "cell_type": "markdown",
   "metadata": {},
   "source": [
    "<b>Limitations </b>\n",
    "- one thing we noticed when doing our EDA was that there is a disconnect between some individuals poll responses and their voter file data from Aristotle. People might not always answer polls truthfully. \n",
    "- We also recognize limitations that may come from polling in general, that people may respond how they think others would want them to instead of being completely truthful.\n",
    "- With this data, there is also no way of following up with participants of the meaning of their answers to understand a population more deeply. For example, one question was if the individual found voting difficult. It is impossible for us to know why individuals may find voting difficult- whether that is because of work, transportation, or if the voting locations are difficult to access for people with varying dissabilities. "
   ]
  },
  {
   "cell_type": "markdown",
   "metadata": {},
   "source": [
    "<b> Source Code: </b>\n",
    "\n",
    "https://github.com/emilyona/2950datascienceproject"
   ]
  },
  {
   "cell_type": "markdown",
   "metadata": {},
   "source": [
    "Acknowldegements: <br>\n",
    "https://www.washingtonpost.com/graphics/2020/elections/voter-turnout/ <br>\n",
    "https://www.businessinsider.com/2016-2020-electoral-maps-exit-polls-compared-2020-11 <br>\n",
    "https://en.wikipedia.org/wiki/Race_and_ethnicity_in_the_United_States#:~:text=The%20White%2C%20non%2DHispanic%20or,and%20Latinos)%20being%2077%25. <br>\n",
    "https://towardsdatascience.com/chi-squared-test-for-feature-selection-with-implementation-in-python-65b4ae7696db <br>\n"
   ]
  },
  {
   "cell_type": "code",
   "execution_count": null,
   "metadata": {},
   "outputs": [],
   "source": []
  }
 ],
 "metadata": {
  "kernelspec": {
   "display_name": "Python 3",
   "language": "python",
   "name": "python3"
  },
  "language_info": {
   "codemirror_mode": {
    "name": "ipython",
    "version": 3
   },
   "file_extension": ".py",
   "mimetype": "text/x-python",
   "name": "python",
   "nbconvert_exporter": "python",
   "pygments_lexer": "ipython3",
   "version": "3.7.4"
  }
 },
 "nbformat": 4,
 "nbformat_minor": 4
}
